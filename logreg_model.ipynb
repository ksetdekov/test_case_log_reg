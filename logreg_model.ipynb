{
 "cells": [
  {
   "cell_type": "code",
   "execution_count": 28,
   "id": "34138f14",
   "metadata": {},
   "outputs": [],
   "source": [
    "import pandas as pd\n",
    "import numpy as np\n",
    "import matplotlib.pyplot as plt\n",
    "import seaborn as sns\n",
    "import openpyxl\n",
    "import imblearn\n",
    "import plotly.express as px\n",
    "from ydata_profiling import ProfileReport\n",
    "from sklearn.model_selection import train_test_split\n",
    "from sklearn.linear_model import LogisticRegression\n",
    "from sklearn.metrics import roc_auc_score, roc_curve, auc\n",
    "import statsmodels.api as sm\n",
    "%matplotlib inline\n"
   ]
  },
  {
   "cell_type": "markdown",
   "id": "b444eab4",
   "metadata": {},
   "source": [
    "# считываем данные\n"
   ]
  },
  {
   "cell_type": "code",
   "execution_count": 30,
   "id": "13dcb300",
   "metadata": {},
   "outputs": [],
   "source": [
    "applications_file = 'Заявки.xlsx'\n",
    "accounts_file = 'Открытые рс.xlsx'\n",
    "suspensions_file = 'Блокировки.xlsx'\n",
    "has_products_file = 'Наличие_кредитного_продукта.xlsx'\n",
    "report_file = 'спарк.csv'"
   ]
  },
  {
   "cell_type": "code",
   "execution_count": 3,
   "id": "fc24511a",
   "metadata": {},
   "outputs": [
    {
     "data": {
      "text/html": [
       "<div>\n",
       "<style scoped>\n",
       "    .dataframe tbody tr th:only-of-type {\n",
       "        vertical-align: middle;\n",
       "    }\n",
       "\n",
       "    .dataframe tbody tr th {\n",
       "        vertical-align: top;\n",
       "    }\n",
       "\n",
       "    .dataframe thead th {\n",
       "        text-align: right;\n",
       "    }\n",
       "</style>\n",
       "<table border=\"1\" class=\"dataframe\">\n",
       "  <thead>\n",
       "    <tr style=\"text-align: right;\">\n",
       "      <th></th>\n",
       "      <th>IdInquiry</th>\n",
       "      <th>ИНН</th>\n",
       "      <th>Дата заявки</th>\n",
       "      <th>Тип организации</th>\n",
       "    </tr>\n",
       "  </thead>\n",
       "  <tbody>\n",
       "    <tr>\n",
       "      <th>0</th>\n",
       "      <td>149105</td>\n",
       "      <td>BYKKBSYFTS</td>\n",
       "      <td>2018-06-18 03:37:00</td>\n",
       "      <td>ЮЛ</td>\n",
       "    </tr>\n",
       "    <tr>\n",
       "      <th>1</th>\n",
       "      <td>149106</td>\n",
       "      <td>MIWYERAPTINW</td>\n",
       "      <td>2018-06-18 03:46:00</td>\n",
       "      <td>ИП</td>\n",
       "    </tr>\n",
       "    <tr>\n",
       "      <th>2</th>\n",
       "      <td>149107</td>\n",
       "      <td>MIWYERAPTINW</td>\n",
       "      <td>2018-06-18 03:49:00</td>\n",
       "      <td>ИП</td>\n",
       "    </tr>\n",
       "    <tr>\n",
       "      <th>3</th>\n",
       "      <td>149109</td>\n",
       "      <td>RXDNYNCXKXRF</td>\n",
       "      <td>2018-06-18 04:12:00</td>\n",
       "      <td>ИП</td>\n",
       "    </tr>\n",
       "    <tr>\n",
       "      <th>4</th>\n",
       "      <td>149110</td>\n",
       "      <td>KBTUOUECTSKX</td>\n",
       "      <td>2018-06-18 04:20:00</td>\n",
       "      <td>ИП</td>\n",
       "    </tr>\n",
       "  </tbody>\n",
       "</table>\n",
       "</div>"
      ],
      "text/plain": [
       "   IdInquiry           ИНН         Дата заявки Тип организации\n",
       "0     149105    BYKKBSYFTS 2018-06-18 03:37:00              ЮЛ\n",
       "1     149106  MIWYERAPTINW 2018-06-18 03:46:00              ИП\n",
       "2     149107  MIWYERAPTINW 2018-06-18 03:49:00              ИП\n",
       "3     149109  RXDNYNCXKXRF 2018-06-18 04:12:00              ИП\n",
       "4     149110  KBTUOUECTSKX 2018-06-18 04:20:00              ИП"
      ]
     },
     "execution_count": 3,
     "metadata": {},
     "output_type": "execute_result"
    }
   ],
   "source": [
    "applications = pd.read_excel(applications_file)\n",
    "applications.head()"
   ]
  },
  {
   "cell_type": "code",
   "execution_count": 4,
   "id": "58960fa1",
   "metadata": {},
   "outputs": [
    {
     "data": {
      "text/html": [
       "<div>\n",
       "<style scoped>\n",
       "    .dataframe tbody tr th:only-of-type {\n",
       "        vertical-align: middle;\n",
       "    }\n",
       "\n",
       "    .dataframe tbody tr th {\n",
       "        vertical-align: top;\n",
       "    }\n",
       "\n",
       "    .dataframe thead th {\n",
       "        text-align: right;\n",
       "    }\n",
       "</style>\n",
       "<table border=\"1\" class=\"dataframe\">\n",
       "  <thead>\n",
       "    <tr style=\"text-align: right;\">\n",
       "      <th></th>\n",
       "      <th>ИНН</th>\n",
       "      <th>Дата открытия</th>\n",
       "      <th>Дата закрытия</th>\n",
       "    </tr>\n",
       "  </thead>\n",
       "  <tbody>\n",
       "    <tr>\n",
       "      <th>0</th>\n",
       "      <td>KTIZMVIQGVVW</td>\n",
       "      <td>2019-09-25</td>\n",
       "      <td>2019-12-18 00:00:00</td>\n",
       "    </tr>\n",
       "    <tr>\n",
       "      <th>1</th>\n",
       "      <td>SRCUMJUBNXUM</td>\n",
       "      <td>2019-04-29</td>\n",
       "      <td>2019-06-26 00:00:00</td>\n",
       "    </tr>\n",
       "    <tr>\n",
       "      <th>2</th>\n",
       "      <td>KZAGDPVOXANB</td>\n",
       "      <td>2019-06-24</td>\n",
       "      <td>2019-08-29 00:00:00</td>\n",
       "    </tr>\n",
       "    <tr>\n",
       "      <th>3</th>\n",
       "      <td>CYCMZJKVLKAZ</td>\n",
       "      <td>2019-10-10</td>\n",
       "      <td>2020-01-30 00:00:00</td>\n",
       "    </tr>\n",
       "    <tr>\n",
       "      <th>4</th>\n",
       "      <td>QLQYBUPRBBSJ</td>\n",
       "      <td>2019-10-10</td>\n",
       "      <td>2019-12-24 00:00:00</td>\n",
       "    </tr>\n",
       "  </tbody>\n",
       "</table>\n",
       "</div>"
      ],
      "text/plain": [
       "            ИНН Дата открытия        Дата закрытия\n",
       "0  KTIZMVIQGVVW    2019-09-25  2019-12-18 00:00:00\n",
       "1  SRCUMJUBNXUM    2019-04-29  2019-06-26 00:00:00\n",
       "2  KZAGDPVOXANB    2019-06-24  2019-08-29 00:00:00\n",
       "3  CYCMZJKVLKAZ    2019-10-10  2020-01-30 00:00:00\n",
       "4  QLQYBUPRBBSJ    2019-10-10  2019-12-24 00:00:00"
      ]
     },
     "execution_count": 4,
     "metadata": {},
     "output_type": "execute_result"
    }
   ],
   "source": [
    "open_accounts = pd.read_excel(accounts_file)\n",
    "open_accounts.head()"
   ]
  },
  {
   "cell_type": "code",
   "execution_count": 5,
   "id": "38ac2609",
   "metadata": {},
   "outputs": [
    {
     "data": {
      "text/html": [
       "<div>\n",
       "<style scoped>\n",
       "    .dataframe tbody tr th:only-of-type {\n",
       "        vertical-align: middle;\n",
       "    }\n",
       "\n",
       "    .dataframe tbody tr th {\n",
       "        vertical-align: top;\n",
       "    }\n",
       "\n",
       "    .dataframe thead th {\n",
       "        text-align: right;\n",
       "    }\n",
       "</style>\n",
       "<table border=\"1\" class=\"dataframe\">\n",
       "  <thead>\n",
       "    <tr style=\"text-align: right;\">\n",
       "      <th></th>\n",
       "      <th>ИНН</th>\n",
       "      <th>Дата блокировки</th>\n",
       "    </tr>\n",
       "  </thead>\n",
       "  <tbody>\n",
       "    <tr>\n",
       "      <th>0</th>\n",
       "      <td>UWJVWILNVB</td>\n",
       "      <td>2018-06-18</td>\n",
       "    </tr>\n",
       "    <tr>\n",
       "      <th>1</th>\n",
       "      <td>DIQZQQEMLN</td>\n",
       "      <td>2018-06-18</td>\n",
       "    </tr>\n",
       "    <tr>\n",
       "      <th>2</th>\n",
       "      <td>CECYYCSEAKLP</td>\n",
       "      <td>2018-06-19</td>\n",
       "    </tr>\n",
       "    <tr>\n",
       "      <th>3</th>\n",
       "      <td>OCMHZOYWACDN</td>\n",
       "      <td>2018-06-19</td>\n",
       "    </tr>\n",
       "    <tr>\n",
       "      <th>4</th>\n",
       "      <td>RDFCTRXYFYHM</td>\n",
       "      <td>2018-06-19</td>\n",
       "    </tr>\n",
       "  </tbody>\n",
       "</table>\n",
       "</div>"
      ],
      "text/plain": [
       "            ИНН Дата блокировки\n",
       "0    UWJVWILNVB      2018-06-18\n",
       "1    DIQZQQEMLN      2018-06-18\n",
       "2  CECYYCSEAKLP      2018-06-19\n",
       "3  OCMHZOYWACDN      2018-06-19\n",
       "4  RDFCTRXYFYHM      2018-06-19"
      ]
     },
     "execution_count": 5,
     "metadata": {},
     "output_type": "execute_result"
    }
   ],
   "source": [
    "suspensions = pd.read_excel(suspensions_file)\n",
    "suspensions.head()"
   ]
  },
  {
   "cell_type": "code",
   "execution_count": 6,
   "id": "695a6dc3",
   "metadata": {},
   "outputs": [
    {
     "data": {
      "text/html": [
       "<div>\n",
       "<style scoped>\n",
       "    .dataframe tbody tr th:only-of-type {\n",
       "        vertical-align: middle;\n",
       "    }\n",
       "\n",
       "    .dataframe tbody tr th {\n",
       "        vertical-align: top;\n",
       "    }\n",
       "\n",
       "    .dataframe thead th {\n",
       "        text-align: right;\n",
       "    }\n",
       "</style>\n",
       "<table border=\"1\" class=\"dataframe\">\n",
       "  <thead>\n",
       "    <tr style=\"text-align: right;\">\n",
       "      <th></th>\n",
       "      <th>inn</th>\n",
       "    </tr>\n",
       "  </thead>\n",
       "  <tbody>\n",
       "    <tr>\n",
       "      <th>0</th>\n",
       "      <td>JIFDLDWCKC</td>\n",
       "    </tr>\n",
       "    <tr>\n",
       "      <th>1</th>\n",
       "      <td>OXUANITWYSYJ</td>\n",
       "    </tr>\n",
       "    <tr>\n",
       "      <th>2</th>\n",
       "      <td>IJWAMIETEASJ</td>\n",
       "    </tr>\n",
       "    <tr>\n",
       "      <th>3</th>\n",
       "      <td>VLUUKDPNJBTK</td>\n",
       "    </tr>\n",
       "    <tr>\n",
       "      <th>4</th>\n",
       "      <td>WIRLKQYSFY</td>\n",
       "    </tr>\n",
       "  </tbody>\n",
       "</table>\n",
       "</div>"
      ],
      "text/plain": [
       "            inn\n",
       "0    JIFDLDWCKC\n",
       "1  OXUANITWYSYJ\n",
       "2  IJWAMIETEASJ\n",
       "3  VLUUKDPNJBTK\n",
       "4    WIRLKQYSFY"
      ]
     },
     "execution_count": 6,
     "metadata": {},
     "output_type": "execute_result"
    }
   ],
   "source": [
    "has_products_file = pd.read_excel(has_products_file)\n",
    "has_products_file.head()"
   ]
  },
  {
   "cell_type": "code",
   "execution_count": 32,
   "id": "46b884c9",
   "metadata": {},
   "outputs": [
    {
     "data": {
      "text/html": [
       "<div>\n",
       "<style scoped>\n",
       "    .dataframe tbody tr th:only-of-type {\n",
       "        vertical-align: middle;\n",
       "    }\n",
       "\n",
       "    .dataframe tbody tr th {\n",
       "        vertical-align: top;\n",
       "    }\n",
       "\n",
       "    .dataframe thead th {\n",
       "        text-align: right;\n",
       "    }\n",
       "</style>\n",
       "<table border=\"1\" class=\"dataframe\">\n",
       "  <thead>\n",
       "    <tr style=\"text-align: right;\">\n",
       "      <th></th>\n",
       "      <th>ИНН</th>\n",
       "      <th>Дата загрузки заявки</th>\n",
       "      <th>Количество компаний с аналогичным директором в том же регионе</th>\n",
       "      <th>Компания входит в: Юридические лица, в состав исполнительных органов которых входят дисквалифицированные лица</th>\n",
       "      <th>Количество компаний, зарегистрированных на адресе регистрации Организации по данным сайта ФНС</th>\n",
       "      <th>Количество видов деятельности у Клиента</th>\n",
       "      <th>код основного оквэд</th>\n",
       "      <th>Субъект местонахождения</th>\n",
       "      <th>размер уставного капитал ЮЛ</th>\n",
       "      <th>Чистая прибыль (или убыток) компании</th>\n",
       "      <th>...</th>\n",
       "      <th>19 - Суммируем %% размеры долей учредителей – иностранных ЮЛ из секции</th>\n",
       "      <th>20 - Срок регистрации клиента</th>\n",
       "      <th>21 - КодОКВЭД</th>\n",
       "      <th>21 - ПрВерсОКВЭД</th>\n",
       "      <th>23 - a.\\tУправляющая организация – берем данные из секции СвУпрОрг</th>\n",
       "      <th>23 - b. Гендиректор – ФЛ</th>\n",
       "      <th>23 - Учредители и их изменение</th>\n",
       "      <th>23 - Учредители – иностранные компании</th>\n",
       "      <th>23 - Учредители - физлица</th>\n",
       "      <th>История смены сооучредителей</th>\n",
       "    </tr>\n",
       "  </thead>\n",
       "  <tbody>\n",
       "    <tr>\n",
       "      <th>0</th>\n",
       "      <td>JVGAVXQOMXDL</td>\n",
       "      <td>2018-09-24 14:04:47.397</td>\n",
       "      <td>0.0</td>\n",
       "      <td>Нет</td>\n",
       "      <td>NaN</td>\n",
       "      <td>32.0</td>\n",
       "      <td>81.29</td>\n",
       "      <td>GN</td>\n",
       "      <td>NaN</td>\n",
       "      <td>NaN</td>\n",
       "      <td>...</td>\n",
       "      <td>NaN</td>\n",
       "      <td>NaN</td>\n",
       "      <td>NaN</td>\n",
       "      <td>NaN</td>\n",
       "      <td>NaN</td>\n",
       "      <td>NaN</td>\n",
       "      <td>NaN</td>\n",
       "      <td>NaN</td>\n",
       "      <td>NaN</td>\n",
       "      <td>NaN</td>\n",
       "    </tr>\n",
       "    <tr>\n",
       "      <th>1</th>\n",
       "      <td>VYSZNCKGGM</td>\n",
       "      <td>2018-11-07 09:28:42.913</td>\n",
       "      <td>2.0</td>\n",
       "      <td>Нет</td>\n",
       "      <td>2.0</td>\n",
       "      <td>13.0</td>\n",
       "      <td>46.72</td>\n",
       "      <td>YS</td>\n",
       "      <td>10000.0</td>\n",
       "      <td>NaN</td>\n",
       "      <td>...</td>\n",
       "      <td>NaN</td>\n",
       "      <td>NaN</td>\n",
       "      <td>NaN</td>\n",
       "      <td>NaN</td>\n",
       "      <td>NaN</td>\n",
       "      <td>NaN</td>\n",
       "      <td>NaN</td>\n",
       "      <td>NaN</td>\n",
       "      <td>NaN</td>\n",
       "      <td>ЮЛ: 14.06.2018 0:00:00; ЮЛ: 18.02.2016 0:00:00</td>\n",
       "    </tr>\n",
       "    <tr>\n",
       "      <th>2</th>\n",
       "      <td>OAUNBEVXYM</td>\n",
       "      <td>2018-12-19 05:19:50.927</td>\n",
       "      <td>2.0</td>\n",
       "      <td>Нет</td>\n",
       "      <td>12.0</td>\n",
       "      <td>9.0</td>\n",
       "      <td>46.73</td>\n",
       "      <td>ZY</td>\n",
       "      <td>10000.0</td>\n",
       "      <td>NaN</td>\n",
       "      <td>...</td>\n",
       "      <td>NaN</td>\n",
       "      <td>NaN</td>\n",
       "      <td>NaN</td>\n",
       "      <td>NaN</td>\n",
       "      <td>NaN</td>\n",
       "      <td>NaN</td>\n",
       "      <td>NaN</td>\n",
       "      <td>NaN</td>\n",
       "      <td>NaN</td>\n",
       "      <td>ЮЛ: 09.10.2018 0:00:00</td>\n",
       "    </tr>\n",
       "    <tr>\n",
       "      <th>3</th>\n",
       "      <td>POTUIFVYMPZL</td>\n",
       "      <td>2019-10-25 17:36:45.310</td>\n",
       "      <td>0.0</td>\n",
       "      <td>Нет</td>\n",
       "      <td>NaN</td>\n",
       "      <td>1.0</td>\n",
       "      <td>47.59.1</td>\n",
       "      <td>XT</td>\n",
       "      <td>NaN</td>\n",
       "      <td>NaN</td>\n",
       "      <td>...</td>\n",
       "      <td>NaN</td>\n",
       "      <td>NaN</td>\n",
       "      <td>NaN</td>\n",
       "      <td>NaN</td>\n",
       "      <td>NaN</td>\n",
       "      <td>NaN</td>\n",
       "      <td>NaN</td>\n",
       "      <td>NaN</td>\n",
       "      <td>NaN</td>\n",
       "      <td>NaN</td>\n",
       "    </tr>\n",
       "    <tr>\n",
       "      <th>4</th>\n",
       "      <td>KVVWUJYQTVFV</td>\n",
       "      <td>2019-02-04 15:10:23.197</td>\n",
       "      <td>0.0</td>\n",
       "      <td>Нет</td>\n",
       "      <td>NaN</td>\n",
       "      <td>1.0</td>\n",
       "      <td>68.20.2</td>\n",
       "      <td>VM</td>\n",
       "      <td>NaN</td>\n",
       "      <td>NaN</td>\n",
       "      <td>...</td>\n",
       "      <td>NaN</td>\n",
       "      <td>NaN</td>\n",
       "      <td>NaN</td>\n",
       "      <td>NaN</td>\n",
       "      <td>NaN</td>\n",
       "      <td>NaN</td>\n",
       "      <td>NaN</td>\n",
       "      <td>NaN</td>\n",
       "      <td>NaN</td>\n",
       "      <td>NaN</td>\n",
       "    </tr>\n",
       "  </tbody>\n",
       "</table>\n",
       "<p>5 rows × 71 columns</p>\n",
       "</div>"
      ],
      "text/plain": [
       "            ИНН     Дата загрузки заявки  \\\n",
       "0  JVGAVXQOMXDL  2018-09-24 14:04:47.397   \n",
       "1    VYSZNCKGGM  2018-11-07 09:28:42.913   \n",
       "2    OAUNBEVXYM  2018-12-19 05:19:50.927   \n",
       "3  POTUIFVYMPZL  2019-10-25 17:36:45.310   \n",
       "4  KVVWUJYQTVFV  2019-02-04 15:10:23.197   \n",
       "\n",
       "   Количество компаний с аналогичным директором в том же регионе  \\\n",
       "0                                                0.0               \n",
       "1                                                2.0               \n",
       "2                                                2.0               \n",
       "3                                                0.0               \n",
       "4                                                0.0               \n",
       "\n",
       "  Компания входит в: Юридические лица, в состав исполнительных органов которых входят дисквалифицированные лица  \\\n",
       "0                                                Нет                                                              \n",
       "1                                                Нет                                                              \n",
       "2                                                Нет                                                              \n",
       "3                                                Нет                                                              \n",
       "4                                                Нет                                                              \n",
       "\n",
       "   Количество компаний, зарегистрированных на адресе регистрации Организации по данным сайта ФНС  \\\n",
       "0                                                NaN                                               \n",
       "1                                                2.0                                               \n",
       "2                                               12.0                                               \n",
       "3                                                NaN                                               \n",
       "4                                                NaN                                               \n",
       "\n",
       "   Количество видов деятельности у Клиента код основного оквэд  \\\n",
       "0                                     32.0               81.29   \n",
       "1                                     13.0               46.72   \n",
       "2                                      9.0               46.73   \n",
       "3                                      1.0             47.59.1   \n",
       "4                                      1.0             68.20.2   \n",
       "\n",
       "  Субъект местонахождения  размер уставного капитал ЮЛ  \\\n",
       "0                      GN                          NaN   \n",
       "1                      YS                      10000.0   \n",
       "2                      ZY                      10000.0   \n",
       "3                      XT                          NaN   \n",
       "4                      VM                          NaN   \n",
       "\n",
       "   Чистая прибыль (или убыток) компании  ...  \\\n",
       "0                                   NaN  ...   \n",
       "1                                   NaN  ...   \n",
       "2                                   NaN  ...   \n",
       "3                                   NaN  ...   \n",
       "4                                   NaN  ...   \n",
       "\n",
       "   19 - Суммируем %% размеры долей учредителей – иностранных ЮЛ из секции  \\\n",
       "0                                                NaN                        \n",
       "1                                                NaN                        \n",
       "2                                                NaN                        \n",
       "3                                                NaN                        \n",
       "4                                                NaN                        \n",
       "\n",
       "   20 - Срок регистрации клиента  21 - КодОКВЭД 21 - ПрВерсОКВЭД  \\\n",
       "0                            NaN            NaN              NaN   \n",
       "1                            NaN            NaN              NaN   \n",
       "2                            NaN            NaN              NaN   \n",
       "3                            NaN            NaN              NaN   \n",
       "4                            NaN            NaN              NaN   \n",
       "\n",
       "   23 - a.\\tУправляющая организация – берем данные из секции СвУпрОрг  \\\n",
       "0                                                NaN                    \n",
       "1                                                NaN                    \n",
       "2                                                NaN                    \n",
       "3                                                NaN                    \n",
       "4                                                NaN                    \n",
       "\n",
       "  23 - b. Гендиректор – ФЛ  23 - Учредители и их изменение  \\\n",
       "0                       NaN                            NaN   \n",
       "1                       NaN                            NaN   \n",
       "2                       NaN                            NaN   \n",
       "3                       NaN                            NaN   \n",
       "4                       NaN                            NaN   \n",
       "\n",
       "   23 - Учредители – иностранные компании  23 - Учредители - физлица  \\\n",
       "0                                     NaN                        NaN   \n",
       "1                                     NaN                        NaN   \n",
       "2                                     NaN                        NaN   \n",
       "3                                     NaN                        NaN   \n",
       "4                                     NaN                        NaN   \n",
       "\n",
       "                     История смены сооучредителей  \n",
       "0                                             NaN  \n",
       "1  ЮЛ: 14.06.2018 0:00:00; ЮЛ: 18.02.2016 0:00:00  \n",
       "2                          ЮЛ: 09.10.2018 0:00:00  \n",
       "3                                             NaN  \n",
       "4                                             NaN  \n",
       "\n",
       "[5 rows x 71 columns]"
      ]
     },
     "execution_count": 32,
     "metadata": {},
     "output_type": "execute_result"
    }
   ],
   "source": [
    "report_df = pd.read_csv(report_file)\n",
    "report_df.head()"
   ]
  },
  {
   "cell_type": "code",
   "execution_count": null,
   "id": "2c0b7e98",
   "metadata": {},
   "outputs": [],
   "source": []
  },
  {
   "cell_type": "code",
   "execution_count": 7,
   "id": "8457aa8f",
   "metadata": {},
   "outputs": [
    {
     "data": {
      "text/html": [
       "<div>\n",
       "<style scoped>\n",
       "    .dataframe tbody tr th:only-of-type {\n",
       "        vertical-align: middle;\n",
       "    }\n",
       "\n",
       "    .dataframe tbody tr th {\n",
       "        vertical-align: top;\n",
       "    }\n",
       "\n",
       "    .dataframe thead th {\n",
       "        text-align: right;\n",
       "    }\n",
       "</style>\n",
       "<table border=\"1\" class=\"dataframe\">\n",
       "  <thead>\n",
       "    <tr style=\"text-align: right;\">\n",
       "      <th></th>\n",
       "      <th>ИНН</th>\n",
       "      <th>Дата открытия</th>\n",
       "      <th>Дата заявки</th>\n",
       "    </tr>\n",
       "  </thead>\n",
       "  <tbody>\n",
       "    <tr>\n",
       "      <th>261122</th>\n",
       "      <td>AAAAIRYZRC</td>\n",
       "      <td>2019-08-27</td>\n",
       "      <td>2019-08-22 15:06:00</td>\n",
       "    </tr>\n",
       "    <tr>\n",
       "      <th>261338</th>\n",
       "      <td>AAAAIRYZRC</td>\n",
       "      <td>2019-08-27</td>\n",
       "      <td>2019-08-22 16:03:00</td>\n",
       "    </tr>\n",
       "    <tr>\n",
       "      <th>365156</th>\n",
       "      <td>AAAFBXICUBOO</td>\n",
       "      <td>2019-10-31</td>\n",
       "      <td>2019-10-30 15:35:00</td>\n",
       "    </tr>\n",
       "    <tr>\n",
       "      <th>365362</th>\n",
       "      <td>AAAFBXICUBOO</td>\n",
       "      <td>2019-10-31</td>\n",
       "      <td>2019-10-30 16:17:00</td>\n",
       "    </tr>\n",
       "    <tr>\n",
       "      <th>309767</th>\n",
       "      <td>AAAHFBJQHKRE</td>\n",
       "      <td>2019-10-03</td>\n",
       "      <td>2019-09-25 11:25:00</td>\n",
       "    </tr>\n",
       "    <tr>\n",
       "      <th>...</th>\n",
       "      <td>...</td>\n",
       "      <td>...</td>\n",
       "      <td>...</td>\n",
       "    </tr>\n",
       "    <tr>\n",
       "      <th>62649</th>\n",
       "      <td>ZZZYJYKIWJUY</td>\n",
       "      <td>2019-01-28</td>\n",
       "      <td>2018-12-28 10:47:00</td>\n",
       "    </tr>\n",
       "    <tr>\n",
       "      <th>338000</th>\n",
       "      <td>ZZZZIBDUCCMF</td>\n",
       "      <td>2019-10-15</td>\n",
       "      <td>2019-10-14 12:00:00</td>\n",
       "    </tr>\n",
       "    <tr>\n",
       "      <th>338404</th>\n",
       "      <td>ZZZZIBDUCCMF</td>\n",
       "      <td>2019-10-15</td>\n",
       "      <td>2019-10-14 13:52:00</td>\n",
       "    </tr>\n",
       "    <tr>\n",
       "      <th>365463</th>\n",
       "      <td>ZZZZNXTPDFAG</td>\n",
       "      <td>2019-10-31</td>\n",
       "      <td>2019-10-30 16:46:00</td>\n",
       "    </tr>\n",
       "    <tr>\n",
       "      <th>367755</th>\n",
       "      <td>ZZZZNXTPDFAG</td>\n",
       "      <td>2019-10-31</td>\n",
       "      <td>2019-10-31 16:39:00</td>\n",
       "    </tr>\n",
       "  </tbody>\n",
       "</table>\n",
       "<p>316569 rows × 3 columns</p>\n",
       "</div>"
      ],
      "text/plain": [
       "                 ИНН Дата открытия         Дата заявки\n",
       "261122    AAAAIRYZRC    2019-08-27 2019-08-22 15:06:00\n",
       "261338    AAAAIRYZRC    2019-08-27 2019-08-22 16:03:00\n",
       "365156  AAAFBXICUBOO    2019-10-31 2019-10-30 15:35:00\n",
       "365362  AAAFBXICUBOO    2019-10-31 2019-10-30 16:17:00\n",
       "309767  AAAHFBJQHKRE    2019-10-03 2019-09-25 11:25:00\n",
       "...              ...           ...                 ...\n",
       "62649   ZZZYJYKIWJUY    2019-01-28 2018-12-28 10:47:00\n",
       "338000  ZZZZIBDUCCMF    2019-10-15 2019-10-14 12:00:00\n",
       "338404  ZZZZIBDUCCMF    2019-10-15 2019-10-14 13:52:00\n",
       "365463  ZZZZNXTPDFAG    2019-10-31 2019-10-30 16:46:00\n",
       "367755  ZZZZNXTPDFAG    2019-10-31 2019-10-31 16:39:00\n",
       "\n",
       "[316569 rows x 3 columns]"
      ]
     },
     "execution_count": 7,
     "metadata": {},
     "output_type": "execute_result"
    }
   ],
   "source": [
    "applications_with_open_accounts = pd.merge(applications, open_accounts, how='left', left_on='ИНН', right_on='ИНН')\n",
    "# посмотрим на инн где есть 2 и более открытых рс\n",
    "multiple_open_accounts = applications_with_open_accounts[applications_with_open_accounts['ИНН'].duplicated(keep=False)]\n",
    "multiple_open_accounts = multiple_open_accounts[['ИНН', 'Дата открытия', 'Дата заявки']]\n",
    "multiple_open_accounts = multiple_open_accounts.sort_values(by=['ИНН', 'Дата открытия'])\n",
    "\n",
    "multiple_open_accounts"
   ]
  },
  {
   "cell_type": "code",
   "execution_count": 8,
   "id": "b83c01fd",
   "metadata": {},
   "outputs": [
    {
     "data": {
      "text/plain": [
       "False"
      ]
     },
     "execution_count": 8,
     "metadata": {},
     "output_type": "execute_result"
    }
   ],
   "source": [
    "# проверим уникально ли инн + дата октытия\n",
    "multiple_open_accounts['ИНН + Дата открытия'] = multiple_open_accounts['ИНН'].astype(str) + ' ' + multiple_open_accounts['Дата открытия'].astype(str)\n",
    "multiple_open_accounts['ИНН + Дата открытия'].nunique() == multiple_open_accounts.shape[0]"
   ]
  },
  {
   "cell_type": "code",
   "execution_count": 9,
   "id": "95dd6c31",
   "metadata": {},
   "outputs": [
    {
     "data": {
      "text/plain": [
       "False"
      ]
     },
     "execution_count": 9,
     "metadata": {},
     "output_type": "execute_result"
    }
   ],
   "source": [
    "# есть ли у нас много открытий рс на инн - которые имеют разные даты открытия для 1 инн\n",
    "multiple_open_accounts['ИНН'].nunique() == multiple_open_accounts.shape[0]\n"
   ]
  },
  {
   "cell_type": "code",
   "execution_count": 10,
   "id": "dd4f9f16",
   "metadata": {},
   "outputs": [
    {
     "name": "stdout",
     "output_type": "stream",
     "text": [
      "Доля инн с разными датами открытия: 1.00%\n"
     ]
    },
    {
     "data": {
      "text/html": [
       "<div>\n",
       "<style scoped>\n",
       "    .dataframe tbody tr th:only-of-type {\n",
       "        vertical-align: middle;\n",
       "    }\n",
       "\n",
       "    .dataframe tbody tr th {\n",
       "        vertical-align: top;\n",
       "    }\n",
       "\n",
       "    .dataframe thead th {\n",
       "        text-align: right;\n",
       "    }\n",
       "</style>\n",
       "<table border=\"1\" class=\"dataframe\">\n",
       "  <thead>\n",
       "    <tr style=\"text-align: right;\">\n",
       "      <th></th>\n",
       "      <th>IdInquiry</th>\n",
       "      <th>ИНН</th>\n",
       "      <th>Дата заявки</th>\n",
       "      <th>Тип организации</th>\n",
       "      <th>Дата открытия</th>\n",
       "      <th>Дата закрытия</th>\n",
       "    </tr>\n",
       "  </thead>\n",
       "  <tbody>\n",
       "    <tr>\n",
       "      <th>214039</th>\n",
       "      <td>393435</td>\n",
       "      <td>AASJXTWMFL</td>\n",
       "      <td>2019-07-16 09:17:00</td>\n",
       "      <td>ЮЛ</td>\n",
       "      <td>2019-07-18</td>\n",
       "      <td>2019-10-18 00:00:00</td>\n",
       "    </tr>\n",
       "    <tr>\n",
       "      <th>214040</th>\n",
       "      <td>393435</td>\n",
       "      <td>AASJXTWMFL</td>\n",
       "      <td>2019-07-16 09:17:00</td>\n",
       "      <td>ЮЛ</td>\n",
       "      <td>2019-07-18</td>\n",
       "      <td>NaN</td>\n",
       "    </tr>\n",
       "    <tr>\n",
       "      <th>215027</th>\n",
       "      <td>394476</td>\n",
       "      <td>AASJXTWMFL</td>\n",
       "      <td>2019-07-16 15:45:00</td>\n",
       "      <td>ЮЛ</td>\n",
       "      <td>2019-07-18</td>\n",
       "      <td>2019-10-18 00:00:00</td>\n",
       "    </tr>\n",
       "    <tr>\n",
       "      <th>215028</th>\n",
       "      <td>394476</td>\n",
       "      <td>AASJXTWMFL</td>\n",
       "      <td>2019-07-16 15:45:00</td>\n",
       "      <td>ЮЛ</td>\n",
       "      <td>2019-07-18</td>\n",
       "      <td>NaN</td>\n",
       "    </tr>\n",
       "    <tr>\n",
       "      <th>215637</th>\n",
       "      <td>395069</td>\n",
       "      <td>AASJXTWMFL</td>\n",
       "      <td>2019-07-17 09:13:00</td>\n",
       "      <td>ЮЛ</td>\n",
       "      <td>2019-07-18</td>\n",
       "      <td>2019-10-18 00:00:00</td>\n",
       "    </tr>\n",
       "  </tbody>\n",
       "</table>\n",
       "</div>"
      ],
      "text/plain": [
       "        IdInquiry         ИНН         Дата заявки Тип организации  \\\n",
       "214039     393435  AASJXTWMFL 2019-07-16 09:17:00              ЮЛ   \n",
       "214040     393435  AASJXTWMFL 2019-07-16 09:17:00              ЮЛ   \n",
       "215027     394476  AASJXTWMFL 2019-07-16 15:45:00              ЮЛ   \n",
       "215028     394476  AASJXTWMFL 2019-07-16 15:45:00              ЮЛ   \n",
       "215637     395069  AASJXTWMFL 2019-07-17 09:13:00              ЮЛ   \n",
       "\n",
       "       Дата открытия        Дата закрытия  \n",
       "214039    2019-07-18  2019-10-18 00:00:00  \n",
       "214040    2019-07-18                  NaN  \n",
       "215027    2019-07-18  2019-10-18 00:00:00  \n",
       "215028    2019-07-18                  NaN  \n",
       "215637    2019-07-18  2019-10-18 00:00:00  "
      ]
     },
     "execution_count": 10,
     "metadata": {},
     "output_type": "execute_result"
    }
   ],
   "source": [
    "# посмотрим число строк с с разными датами открытия\n",
    "multiple_open_dates = applications_with_open_accounts.groupby('ИНН')['Дата открытия'].nunique()\n",
    "\n",
    "inn_with_multiple_open_dates = multiple_open_dates[multiple_open_dates > 1]\n",
    "\n",
    "ratio = len(inn_with_multiple_open_dates) / len(applications_with_open_accounts['ИНН'].unique())\n",
    "print(f\"Доля инн с разными датами открытия: {ratio:.2%}\")\n",
    "\n",
    "examples = applications_with_open_accounts[applications_with_open_accounts['ИНН'].isin(inn_with_multiple_open_dates.index)]\n",
    "examples = examples.sort_values(by=['ИНН', 'Дата открытия'])\n",
    "examples.head()"
   ]
  },
  {
   "cell_type": "markdown",
   "id": "5612965e",
   "metadata": {},
   "source": [
    "* есть множество заявок от 1 инн на 1 открытие\n",
    "* есть инн у которых "
   ]
  },
  {
   "cell_type": "markdown",
   "id": "d7cd383a",
   "metadata": {},
   "source": [
    "# EDA"
   ]
  },
  {
   "cell_type": "code",
   "execution_count": 11,
   "id": "07ab45a5",
   "metadata": {},
   "outputs": [
    {
     "data": {
      "application/vnd.plotly.v1+json": {
       "config": {
        "plotlyServerURL": "https://plot.ly"
       },
       "data": [
        {
         "hovertemplate": "Тип организации=ИП<br>Месяц=%{x}<br>Количество заявок=%{y}<extra></extra>",
         "legendgroup": "ИП",
         "marker": {
          "color": "#636efa",
          "pattern": {
           "shape": ""
          }
         },
         "name": "ИП",
         "orientation": "v",
         "showlegend": true,
         "textposition": "auto",
         "type": "bar",
         "x": [
          "2018-06",
          "2018-07",
          "2018-08",
          "2018-09",
          "2018-10",
          "2018-11",
          "2018-12",
          "2019-01",
          "2019-02",
          "2019-03",
          "2019-04",
          "2019-05",
          "2019-06",
          "2019-07",
          "2019-08",
          "2019-09",
          "2019-10",
          "2019-11",
          "2019-12"
         ],
         "xaxis": "x",
         "y": {
          "bdata": "aQbHDTQMugu7EP8SxBG9DpUXdCT7KjwlKS7aOgBJkFYrYmZbii0=",
          "dtype": "i2"
         },
         "yaxis": "y"
        },
        {
         "hovertemplate": "Тип организации=ЮЛ<br>Месяц=%{x}<br>Количество заявок=%{y}<extra></extra>",
         "legendgroup": "ЮЛ",
         "marker": {
          "color": "#EF553B",
          "pattern": {
           "shape": ""
          }
         },
         "name": "ЮЛ",
         "orientation": "v",
         "showlegend": true,
         "textposition": "auto",
         "type": "bar",
         "x": [
          "2018-06",
          "2018-07",
          "2018-08",
          "2018-09",
          "2018-10",
          "2018-11",
          "2018-12",
          "2019-01",
          "2019-02",
          "2019-03",
          "2019-04",
          "2019-05",
          "2019-06",
          "2019-07",
          "2019-08",
          "2019-09",
          "2019-10",
          "2019-11",
          "2019-12"
         ],
         "xaxis": "x",
         "y": {
          "bdata": "1wevEOYQ8hLoGwwdghtxE1secy3YMm8q+THSPKJB8UaBSbtFaCQ=",
          "dtype": "i2"
         },
         "yaxis": "y"
        }
       ],
       "layout": {
        "barmode": "relative",
        "legend": {
         "title": {
          "text": "Тип организации"
         },
         "tracegroupgap": 0
        },
        "template": {
         "data": {
          "bar": [
           {
            "error_x": {
             "color": "#2a3f5f"
            },
            "error_y": {
             "color": "#2a3f5f"
            },
            "marker": {
             "line": {
              "color": "#E5ECF6",
              "width": 0.5
             },
             "pattern": {
              "fillmode": "overlay",
              "size": 10,
              "solidity": 0.2
             }
            },
            "type": "bar"
           }
          ],
          "barpolar": [
           {
            "marker": {
             "line": {
              "color": "#E5ECF6",
              "width": 0.5
             },
             "pattern": {
              "fillmode": "overlay",
              "size": 10,
              "solidity": 0.2
             }
            },
            "type": "barpolar"
           }
          ],
          "carpet": [
           {
            "aaxis": {
             "endlinecolor": "#2a3f5f",
             "gridcolor": "white",
             "linecolor": "white",
             "minorgridcolor": "white",
             "startlinecolor": "#2a3f5f"
            },
            "baxis": {
             "endlinecolor": "#2a3f5f",
             "gridcolor": "white",
             "linecolor": "white",
             "minorgridcolor": "white",
             "startlinecolor": "#2a3f5f"
            },
            "type": "carpet"
           }
          ],
          "choropleth": [
           {
            "colorbar": {
             "outlinewidth": 0,
             "ticks": ""
            },
            "type": "choropleth"
           }
          ],
          "contour": [
           {
            "colorbar": {
             "outlinewidth": 0,
             "ticks": ""
            },
            "colorscale": [
             [
              0,
              "#0d0887"
             ],
             [
              0.1111111111111111,
              "#46039f"
             ],
             [
              0.2222222222222222,
              "#7201a8"
             ],
             [
              0.3333333333333333,
              "#9c179e"
             ],
             [
              0.4444444444444444,
              "#bd3786"
             ],
             [
              0.5555555555555556,
              "#d8576b"
             ],
             [
              0.6666666666666666,
              "#ed7953"
             ],
             [
              0.7777777777777778,
              "#fb9f3a"
             ],
             [
              0.8888888888888888,
              "#fdca26"
             ],
             [
              1,
              "#f0f921"
             ]
            ],
            "type": "contour"
           }
          ],
          "contourcarpet": [
           {
            "colorbar": {
             "outlinewidth": 0,
             "ticks": ""
            },
            "type": "contourcarpet"
           }
          ],
          "heatmap": [
           {
            "colorbar": {
             "outlinewidth": 0,
             "ticks": ""
            },
            "colorscale": [
             [
              0,
              "#0d0887"
             ],
             [
              0.1111111111111111,
              "#46039f"
             ],
             [
              0.2222222222222222,
              "#7201a8"
             ],
             [
              0.3333333333333333,
              "#9c179e"
             ],
             [
              0.4444444444444444,
              "#bd3786"
             ],
             [
              0.5555555555555556,
              "#d8576b"
             ],
             [
              0.6666666666666666,
              "#ed7953"
             ],
             [
              0.7777777777777778,
              "#fb9f3a"
             ],
             [
              0.8888888888888888,
              "#fdca26"
             ],
             [
              1,
              "#f0f921"
             ]
            ],
            "type": "heatmap"
           }
          ],
          "histogram": [
           {
            "marker": {
             "pattern": {
              "fillmode": "overlay",
              "size": 10,
              "solidity": 0.2
             }
            },
            "type": "histogram"
           }
          ],
          "histogram2d": [
           {
            "colorbar": {
             "outlinewidth": 0,
             "ticks": ""
            },
            "colorscale": [
             [
              0,
              "#0d0887"
             ],
             [
              0.1111111111111111,
              "#46039f"
             ],
             [
              0.2222222222222222,
              "#7201a8"
             ],
             [
              0.3333333333333333,
              "#9c179e"
             ],
             [
              0.4444444444444444,
              "#bd3786"
             ],
             [
              0.5555555555555556,
              "#d8576b"
             ],
             [
              0.6666666666666666,
              "#ed7953"
             ],
             [
              0.7777777777777778,
              "#fb9f3a"
             ],
             [
              0.8888888888888888,
              "#fdca26"
             ],
             [
              1,
              "#f0f921"
             ]
            ],
            "type": "histogram2d"
           }
          ],
          "histogram2dcontour": [
           {
            "colorbar": {
             "outlinewidth": 0,
             "ticks": ""
            },
            "colorscale": [
             [
              0,
              "#0d0887"
             ],
             [
              0.1111111111111111,
              "#46039f"
             ],
             [
              0.2222222222222222,
              "#7201a8"
             ],
             [
              0.3333333333333333,
              "#9c179e"
             ],
             [
              0.4444444444444444,
              "#bd3786"
             ],
             [
              0.5555555555555556,
              "#d8576b"
             ],
             [
              0.6666666666666666,
              "#ed7953"
             ],
             [
              0.7777777777777778,
              "#fb9f3a"
             ],
             [
              0.8888888888888888,
              "#fdca26"
             ],
             [
              1,
              "#f0f921"
             ]
            ],
            "type": "histogram2dcontour"
           }
          ],
          "mesh3d": [
           {
            "colorbar": {
             "outlinewidth": 0,
             "ticks": ""
            },
            "type": "mesh3d"
           }
          ],
          "parcoords": [
           {
            "line": {
             "colorbar": {
              "outlinewidth": 0,
              "ticks": ""
             }
            },
            "type": "parcoords"
           }
          ],
          "pie": [
           {
            "automargin": true,
            "type": "pie"
           }
          ],
          "scatter": [
           {
            "fillpattern": {
             "fillmode": "overlay",
             "size": 10,
             "solidity": 0.2
            },
            "type": "scatter"
           }
          ],
          "scatter3d": [
           {
            "line": {
             "colorbar": {
              "outlinewidth": 0,
              "ticks": ""
             }
            },
            "marker": {
             "colorbar": {
              "outlinewidth": 0,
              "ticks": ""
             }
            },
            "type": "scatter3d"
           }
          ],
          "scattercarpet": [
           {
            "marker": {
             "colorbar": {
              "outlinewidth": 0,
              "ticks": ""
             }
            },
            "type": "scattercarpet"
           }
          ],
          "scattergeo": [
           {
            "marker": {
             "colorbar": {
              "outlinewidth": 0,
              "ticks": ""
             }
            },
            "type": "scattergeo"
           }
          ],
          "scattergl": [
           {
            "marker": {
             "colorbar": {
              "outlinewidth": 0,
              "ticks": ""
             }
            },
            "type": "scattergl"
           }
          ],
          "scattermap": [
           {
            "marker": {
             "colorbar": {
              "outlinewidth": 0,
              "ticks": ""
             }
            },
            "type": "scattermap"
           }
          ],
          "scattermapbox": [
           {
            "marker": {
             "colorbar": {
              "outlinewidth": 0,
              "ticks": ""
             }
            },
            "type": "scattermapbox"
           }
          ],
          "scatterpolar": [
           {
            "marker": {
             "colorbar": {
              "outlinewidth": 0,
              "ticks": ""
             }
            },
            "type": "scatterpolar"
           }
          ],
          "scatterpolargl": [
           {
            "marker": {
             "colorbar": {
              "outlinewidth": 0,
              "ticks": ""
             }
            },
            "type": "scatterpolargl"
           }
          ],
          "scatterternary": [
           {
            "marker": {
             "colorbar": {
              "outlinewidth": 0,
              "ticks": ""
             }
            },
            "type": "scatterternary"
           }
          ],
          "surface": [
           {
            "colorbar": {
             "outlinewidth": 0,
             "ticks": ""
            },
            "colorscale": [
             [
              0,
              "#0d0887"
             ],
             [
              0.1111111111111111,
              "#46039f"
             ],
             [
              0.2222222222222222,
              "#7201a8"
             ],
             [
              0.3333333333333333,
              "#9c179e"
             ],
             [
              0.4444444444444444,
              "#bd3786"
             ],
             [
              0.5555555555555556,
              "#d8576b"
             ],
             [
              0.6666666666666666,
              "#ed7953"
             ],
             [
              0.7777777777777778,
              "#fb9f3a"
             ],
             [
              0.8888888888888888,
              "#fdca26"
             ],
             [
              1,
              "#f0f921"
             ]
            ],
            "type": "surface"
           }
          ],
          "table": [
           {
            "cells": {
             "fill": {
              "color": "#EBF0F8"
             },
             "line": {
              "color": "white"
             }
            },
            "header": {
             "fill": {
              "color": "#C8D4E3"
             },
             "line": {
              "color": "white"
             }
            },
            "type": "table"
           }
          ]
         },
         "layout": {
          "annotationdefaults": {
           "arrowcolor": "#2a3f5f",
           "arrowhead": 0,
           "arrowwidth": 1
          },
          "autotypenumbers": "strict",
          "coloraxis": {
           "colorbar": {
            "outlinewidth": 0,
            "ticks": ""
           }
          },
          "colorscale": {
           "diverging": [
            [
             0,
             "#8e0152"
            ],
            [
             0.1,
             "#c51b7d"
            ],
            [
             0.2,
             "#de77ae"
            ],
            [
             0.3,
             "#f1b6da"
            ],
            [
             0.4,
             "#fde0ef"
            ],
            [
             0.5,
             "#f7f7f7"
            ],
            [
             0.6,
             "#e6f5d0"
            ],
            [
             0.7,
             "#b8e186"
            ],
            [
             0.8,
             "#7fbc41"
            ],
            [
             0.9,
             "#4d9221"
            ],
            [
             1,
             "#276419"
            ]
           ],
           "sequential": [
            [
             0,
             "#0d0887"
            ],
            [
             0.1111111111111111,
             "#46039f"
            ],
            [
             0.2222222222222222,
             "#7201a8"
            ],
            [
             0.3333333333333333,
             "#9c179e"
            ],
            [
             0.4444444444444444,
             "#bd3786"
            ],
            [
             0.5555555555555556,
             "#d8576b"
            ],
            [
             0.6666666666666666,
             "#ed7953"
            ],
            [
             0.7777777777777778,
             "#fb9f3a"
            ],
            [
             0.8888888888888888,
             "#fdca26"
            ],
            [
             1,
             "#f0f921"
            ]
           ],
           "sequentialminus": [
            [
             0,
             "#0d0887"
            ],
            [
             0.1111111111111111,
             "#46039f"
            ],
            [
             0.2222222222222222,
             "#7201a8"
            ],
            [
             0.3333333333333333,
             "#9c179e"
            ],
            [
             0.4444444444444444,
             "#bd3786"
            ],
            [
             0.5555555555555556,
             "#d8576b"
            ],
            [
             0.6666666666666666,
             "#ed7953"
            ],
            [
             0.7777777777777778,
             "#fb9f3a"
            ],
            [
             0.8888888888888888,
             "#fdca26"
            ],
            [
             1,
             "#f0f921"
            ]
           ]
          },
          "colorway": [
           "#636efa",
           "#EF553B",
           "#00cc96",
           "#ab63fa",
           "#FFA15A",
           "#19d3f3",
           "#FF6692",
           "#B6E880",
           "#FF97FF",
           "#FECB52"
          ],
          "font": {
           "color": "#2a3f5f"
          },
          "geo": {
           "bgcolor": "white",
           "lakecolor": "white",
           "landcolor": "#E5ECF6",
           "showlakes": true,
           "showland": true,
           "subunitcolor": "white"
          },
          "hoverlabel": {
           "align": "left"
          },
          "hovermode": "closest",
          "mapbox": {
           "style": "light"
          },
          "paper_bgcolor": "white",
          "plot_bgcolor": "#E5ECF6",
          "polar": {
           "angularaxis": {
            "gridcolor": "white",
            "linecolor": "white",
            "ticks": ""
           },
           "bgcolor": "#E5ECF6",
           "radialaxis": {
            "gridcolor": "white",
            "linecolor": "white",
            "ticks": ""
           }
          },
          "scene": {
           "xaxis": {
            "backgroundcolor": "#E5ECF6",
            "gridcolor": "white",
            "gridwidth": 2,
            "linecolor": "white",
            "showbackground": true,
            "ticks": "",
            "zerolinecolor": "white"
           },
           "yaxis": {
            "backgroundcolor": "#E5ECF6",
            "gridcolor": "white",
            "gridwidth": 2,
            "linecolor": "white",
            "showbackground": true,
            "ticks": "",
            "zerolinecolor": "white"
           },
           "zaxis": {
            "backgroundcolor": "#E5ECF6",
            "gridcolor": "white",
            "gridwidth": 2,
            "linecolor": "white",
            "showbackground": true,
            "ticks": "",
            "zerolinecolor": "white"
           }
          },
          "shapedefaults": {
           "line": {
            "color": "#2a3f5f"
           }
          },
          "ternary": {
           "aaxis": {
            "gridcolor": "white",
            "linecolor": "white",
            "ticks": ""
           },
           "baxis": {
            "gridcolor": "white",
            "linecolor": "white",
            "ticks": ""
           },
           "bgcolor": "#E5ECF6",
           "caxis": {
            "gridcolor": "white",
            "linecolor": "white",
            "ticks": ""
           }
          },
          "title": {
           "x": 0.05
          },
          "xaxis": {
           "automargin": true,
           "gridcolor": "white",
           "linecolor": "white",
           "ticks": "",
           "title": {
            "standoff": 15
           },
           "zerolinecolor": "white",
           "zerolinewidth": 2
          },
          "yaxis": {
           "automargin": true,
           "gridcolor": "white",
           "linecolor": "white",
           "ticks": "",
           "title": {
            "standoff": 15
           },
           "zerolinecolor": "white",
           "zerolinewidth": 2
          }
         }
        },
        "title": {
         "text": "Количество заявок по месяцам в разрезе по типу организации"
        },
        "xaxis": {
         "anchor": "y",
         "domain": [
          0,
          1
         ],
         "title": {
          "text": "Месяц"
         }
        },
        "yaxis": {
         "anchor": "x",
         "domain": [
          0,
          1
         ],
         "title": {
          "text": "Количество заявок"
         }
        }
       }
      }
     },
     "metadata": {},
     "output_type": "display_data"
    }
   ],
   "source": [
    "# нарисуем график по количеству заявок  в зависимости от месяца в разрезе по типу организации\n",
    "\n",
    "# Группируем данные по месяцу и типу организации\n",
    "applications['Дата заявки'] = pd.to_datetime(applications['Дата заявки'])\n",
    "applications['Month'] = applications['Дата заявки'].dt.to_period('M')\n",
    "\n",
    "# Агрегируем\n",
    "data_grouped = applications.groupby(['Month', 'Тип организации']).size().reset_index(name='Count')\n",
    "data_grouped['Month'] = data_grouped['Month'].astype(str)\n",
    "\n",
    "fig = px.bar(data_grouped, x='Month', y='Count', color='Тип организации', \n",
    "             title='Количество заявок по месяцам в разрезе по типу организации',\n",
    "             labels={'Month': 'Месяц', 'Count': 'Количество заявок', 'Тип организации': 'Тип организации'})\n",
    "\n",
    "fig.update_layout(xaxis_title='Месяц', yaxis_title='Количество заявок')\n",
    "fig.show()"
   ]
  },
  {
   "cell_type": "code",
   "execution_count": 12,
   "id": "460df89c",
   "metadata": {},
   "outputs": [],
   "source": [
    "# profile = ProfileReport(applications, title=\"Profiling Report\")\n",
    "# # profile.to_file(\"profiling_report.html\")\n",
    "# profile"
   ]
  },
  {
   "cell_type": "markdown",
   "id": "eb21fa16",
   "metadata": {},
   "source": [
    "# сбор данных"
   ]
  },
  {
   "cell_type": "code",
   "execution_count": 13,
   "id": "8976de3f",
   "metadata": {},
   "outputs": [
    {
     "data": {
      "text/html": [
       "<div>\n",
       "<style scoped>\n",
       "    .dataframe tbody tr th:only-of-type {\n",
       "        vertical-align: middle;\n",
       "    }\n",
       "\n",
       "    .dataframe tbody tr th {\n",
       "        vertical-align: top;\n",
       "    }\n",
       "\n",
       "    .dataframe thead th {\n",
       "        text-align: right;\n",
       "    }\n",
       "</style>\n",
       "<table border=\"1\" class=\"dataframe\">\n",
       "  <thead>\n",
       "    <tr style=\"text-align: right;\">\n",
       "      <th></th>\n",
       "      <th>IdInquiry</th>\n",
       "      <th>ИНН</th>\n",
       "      <th>Дата заявки</th>\n",
       "      <th>Тип организации</th>\n",
       "      <th>Month</th>\n",
       "    </tr>\n",
       "  </thead>\n",
       "  <tbody>\n",
       "    <tr>\n",
       "      <th>0</th>\n",
       "      <td>149105</td>\n",
       "      <td>BYKKBSYFTS</td>\n",
       "      <td>2018-06-18 03:37:00</td>\n",
       "      <td>ЮЛ</td>\n",
       "      <td>2018-06</td>\n",
       "    </tr>\n",
       "    <tr>\n",
       "      <th>1</th>\n",
       "      <td>149106</td>\n",
       "      <td>MIWYERAPTINW</td>\n",
       "      <td>2018-06-18 03:46:00</td>\n",
       "      <td>ИП</td>\n",
       "      <td>2018-06</td>\n",
       "    </tr>\n",
       "    <tr>\n",
       "      <th>2</th>\n",
       "      <td>149107</td>\n",
       "      <td>MIWYERAPTINW</td>\n",
       "      <td>2018-06-18 03:49:00</td>\n",
       "      <td>ИП</td>\n",
       "      <td>2018-06</td>\n",
       "    </tr>\n",
       "    <tr>\n",
       "      <th>3</th>\n",
       "      <td>149109</td>\n",
       "      <td>RXDNYNCXKXRF</td>\n",
       "      <td>2018-06-18 04:12:00</td>\n",
       "      <td>ИП</td>\n",
       "      <td>2018-06</td>\n",
       "    </tr>\n",
       "    <tr>\n",
       "      <th>4</th>\n",
       "      <td>149110</td>\n",
       "      <td>KBTUOUECTSKX</td>\n",
       "      <td>2018-06-18 04:20:00</td>\n",
       "      <td>ИП</td>\n",
       "      <td>2018-06</td>\n",
       "    </tr>\n",
       "    <tr>\n",
       "      <th>...</th>\n",
       "      <td>...</td>\n",
       "      <td>...</td>\n",
       "      <td>...</td>\n",
       "      <td>...</td>\n",
       "      <td>...</td>\n",
       "    </tr>\n",
       "    <tr>\n",
       "      <th>387230</th>\n",
       "      <td>622690</td>\n",
       "      <td>KQCLSYJDIH</td>\n",
       "      <td>2019-12-14 14:26:00</td>\n",
       "      <td>ЮЛ</td>\n",
       "      <td>2019-12</td>\n",
       "    </tr>\n",
       "    <tr>\n",
       "      <th>387231</th>\n",
       "      <td>622691</td>\n",
       "      <td>KGIMRLIRFD</td>\n",
       "      <td>2019-12-14 14:30:00</td>\n",
       "      <td>ЮЛ</td>\n",
       "      <td>2019-12</td>\n",
       "    </tr>\n",
       "    <tr>\n",
       "      <th>387232</th>\n",
       "      <td>622692</td>\n",
       "      <td>MMHDXFQTHESN</td>\n",
       "      <td>2019-12-14 14:39:00</td>\n",
       "      <td>ИП</td>\n",
       "      <td>2019-12</td>\n",
       "    </tr>\n",
       "    <tr>\n",
       "      <th>387233</th>\n",
       "      <td>622693</td>\n",
       "      <td>NZVWQJIOPC</td>\n",
       "      <td>2019-12-14 14:39:00</td>\n",
       "      <td>ЮЛ</td>\n",
       "      <td>2019-12</td>\n",
       "    </tr>\n",
       "    <tr>\n",
       "      <th>387234</th>\n",
       "      <td>622694</td>\n",
       "      <td>GWOBIHCEESIV</td>\n",
       "      <td>2019-12-14 15:09:00</td>\n",
       "      <td>ИП</td>\n",
       "      <td>2019-12</td>\n",
       "    </tr>\n",
       "  </tbody>\n",
       "</table>\n",
       "<p>387235 rows × 5 columns</p>\n",
       "</div>"
      ],
      "text/plain": [
       "        IdInquiry           ИНН         Дата заявки Тип организации    Month\n",
       "0          149105    BYKKBSYFTS 2018-06-18 03:37:00              ЮЛ  2018-06\n",
       "1          149106  MIWYERAPTINW 2018-06-18 03:46:00              ИП  2018-06\n",
       "2          149107  MIWYERAPTINW 2018-06-18 03:49:00              ИП  2018-06\n",
       "3          149109  RXDNYNCXKXRF 2018-06-18 04:12:00              ИП  2018-06\n",
       "4          149110  KBTUOUECTSKX 2018-06-18 04:20:00              ИП  2018-06\n",
       "...           ...           ...                 ...             ...      ...\n",
       "387230     622690    KQCLSYJDIH 2019-12-14 14:26:00              ЮЛ  2019-12\n",
       "387231     622691    KGIMRLIRFD 2019-12-14 14:30:00              ЮЛ  2019-12\n",
       "387232     622692  MMHDXFQTHESN 2019-12-14 14:39:00              ИП  2019-12\n",
       "387233     622693    NZVWQJIOPC 2019-12-14 14:39:00              ЮЛ  2019-12\n",
       "387234     622694  GWOBIHCEESIV 2019-12-14 15:09:00              ИП  2019-12\n",
       "\n",
       "[387235 rows x 5 columns]"
      ]
     },
     "execution_count": 13,
     "metadata": {},
     "output_type": "execute_result"
    }
   ],
   "source": [
    "applications"
   ]
  },
  {
   "cell_type": "markdown",
   "id": "96d0e57a",
   "metadata": {},
   "source": [
    "# добавление данных"
   ]
  },
  {
   "cell_type": "code",
   "execution_count": 14,
   "id": "382567ab",
   "metadata": {},
   "outputs": [
    {
     "data": {
      "text/html": [
       "<div>\n",
       "<style scoped>\n",
       "    .dataframe tbody tr th:only-of-type {\n",
       "        vertical-align: middle;\n",
       "    }\n",
       "\n",
       "    .dataframe tbody tr th {\n",
       "        vertical-align: top;\n",
       "    }\n",
       "\n",
       "    .dataframe thead th {\n",
       "        text-align: right;\n",
       "    }\n",
       "</style>\n",
       "<table border=\"1\" class=\"dataframe\">\n",
       "  <thead>\n",
       "    <tr style=\"text-align: right;\">\n",
       "      <th></th>\n",
       "      <th>IdInquiry</th>\n",
       "      <th>ИНН</th>\n",
       "      <th>Дата заявки</th>\n",
       "      <th>Тип организации</th>\n",
       "      <th>Month</th>\n",
       "      <th>Заявки до даты</th>\n",
       "    </tr>\n",
       "  </thead>\n",
       "  <tbody>\n",
       "    <tr>\n",
       "      <th>229351</th>\n",
       "      <td>441465</td>\n",
       "      <td>AAAAIRYZRC</td>\n",
       "      <td>2019-08-22 15:06:00</td>\n",
       "      <td>ЮЛ</td>\n",
       "      <td>2019-08</td>\n",
       "      <td>0</td>\n",
       "    </tr>\n",
       "    <tr>\n",
       "      <th>229533</th>\n",
       "      <td>441672</td>\n",
       "      <td>AAAAIRYZRC</td>\n",
       "      <td>2019-08-22 16:03:00</td>\n",
       "      <td>ЮЛ</td>\n",
       "      <td>2019-08</td>\n",
       "      <td>1</td>\n",
       "    </tr>\n",
       "    <tr>\n",
       "      <th>356530</th>\n",
       "      <td>587893</td>\n",
       "      <td>AAADCVZNUR</td>\n",
       "      <td>2019-11-26 09:20:00</td>\n",
       "      <td>ЮЛ</td>\n",
       "      <td>2019-11</td>\n",
       "      <td>0</td>\n",
       "    </tr>\n",
       "    <tr>\n",
       "      <th>322404</th>\n",
       "      <td>549280</td>\n",
       "      <td>AAAFBXICUBOO</td>\n",
       "      <td>2019-10-30 15:35:00</td>\n",
       "      <td>ИП</td>\n",
       "      <td>2019-10</td>\n",
       "      <td>0</td>\n",
       "    </tr>\n",
       "    <tr>\n",
       "      <th>322584</th>\n",
       "      <td>549481</td>\n",
       "      <td>AAAFBXICUBOO</td>\n",
       "      <td>2019-10-30 16:17:00</td>\n",
       "      <td>ИП</td>\n",
       "      <td>2019-10</td>\n",
       "      <td>1</td>\n",
       "    </tr>\n",
       "  </tbody>\n",
       "</table>\n",
       "</div>"
      ],
      "text/plain": [
       "        IdInquiry           ИНН         Дата заявки Тип организации    Month  \\\n",
       "229351     441465    AAAAIRYZRC 2019-08-22 15:06:00              ЮЛ  2019-08   \n",
       "229533     441672    AAAAIRYZRC 2019-08-22 16:03:00              ЮЛ  2019-08   \n",
       "356530     587893    AAADCVZNUR 2019-11-26 09:20:00              ЮЛ  2019-11   \n",
       "322404     549280  AAAFBXICUBOO 2019-10-30 15:35:00              ИП  2019-10   \n",
       "322584     549481  AAAFBXICUBOO 2019-10-30 16:17:00              ИП  2019-10   \n",
       "\n",
       "        Заявки до даты  \n",
       "229351               0  \n",
       "229533               1  \n",
       "356530               0  \n",
       "322404               0  \n",
       "322584               1  "
      ]
     },
     "execution_count": 14,
     "metadata": {},
     "output_type": "execute_result"
    }
   ],
   "source": [
    "# добавим инфо о числе заявок до даты\n",
    "applications['Дата заявки'] = pd.to_datetime(applications['Дата заявки'])\n",
    "applications = applications.sort_values(by=['ИНН', 'Дата заявки'])\n",
    "\n",
    "applications['Заявки до даты'] = applications.groupby('ИНН')['Дата заявки'].cumcount()\n",
    "\n",
    "applications.head()"
   ]
  },
  {
   "cell_type": "code",
   "execution_count": 15,
   "id": "c4e76dc1",
   "metadata": {},
   "outputs": [
    {
     "data": {
      "text/html": [
       "<div>\n",
       "<style scoped>\n",
       "    .dataframe tbody tr th:only-of-type {\n",
       "        vertical-align: middle;\n",
       "    }\n",
       "\n",
       "    .dataframe tbody tr th {\n",
       "        vertical-align: top;\n",
       "    }\n",
       "\n",
       "    .dataframe thead th {\n",
       "        text-align: right;\n",
       "    }\n",
       "</style>\n",
       "<table border=\"1\" class=\"dataframe\">\n",
       "  <thead>\n",
       "    <tr style=\"text-align: right;\">\n",
       "      <th></th>\n",
       "      <th>IdInquiry</th>\n",
       "      <th>ИНН</th>\n",
       "      <th>Дата заявки</th>\n",
       "      <th>Тип организации</th>\n",
       "      <th>Month</th>\n",
       "      <th>Заявки до даты</th>\n",
       "      <th>Дата открытия</th>\n",
       "      <th>Продукт открыт ранее</th>\n",
       "    </tr>\n",
       "  </thead>\n",
       "  <tbody>\n",
       "    <tr>\n",
       "      <th>0</th>\n",
       "      <td>441465</td>\n",
       "      <td>AAAAIRYZRC</td>\n",
       "      <td>2019-08-22 15:06:00</td>\n",
       "      <td>ЮЛ</td>\n",
       "      <td>2019-08</td>\n",
       "      <td>0</td>\n",
       "      <td>2019-08-27</td>\n",
       "      <td>False</td>\n",
       "    </tr>\n",
       "    <tr>\n",
       "      <th>1</th>\n",
       "      <td>441672</td>\n",
       "      <td>AAAAIRYZRC</td>\n",
       "      <td>2019-08-22 16:03:00</td>\n",
       "      <td>ЮЛ</td>\n",
       "      <td>2019-08</td>\n",
       "      <td>1</td>\n",
       "      <td>2019-08-27</td>\n",
       "      <td>False</td>\n",
       "    </tr>\n",
       "    <tr>\n",
       "      <th>2</th>\n",
       "      <td>587893</td>\n",
       "      <td>AAADCVZNUR</td>\n",
       "      <td>2019-11-26 09:20:00</td>\n",
       "      <td>ЮЛ</td>\n",
       "      <td>2019-11</td>\n",
       "      <td>0</td>\n",
       "      <td>2019-11-28</td>\n",
       "      <td>False</td>\n",
       "    </tr>\n",
       "    <tr>\n",
       "      <th>3</th>\n",
       "      <td>549280</td>\n",
       "      <td>AAAFBXICUBOO</td>\n",
       "      <td>2019-10-30 15:35:00</td>\n",
       "      <td>ИП</td>\n",
       "      <td>2019-10</td>\n",
       "      <td>0</td>\n",
       "      <td>2019-10-31</td>\n",
       "      <td>False</td>\n",
       "    </tr>\n",
       "    <tr>\n",
       "      <th>4</th>\n",
       "      <td>549481</td>\n",
       "      <td>AAAFBXICUBOO</td>\n",
       "      <td>2019-10-30 16:17:00</td>\n",
       "      <td>ИП</td>\n",
       "      <td>2019-10</td>\n",
       "      <td>1</td>\n",
       "      <td>2019-10-31</td>\n",
       "      <td>False</td>\n",
       "    </tr>\n",
       "  </tbody>\n",
       "</table>\n",
       "</div>"
      ],
      "text/plain": [
       "   IdInquiry           ИНН         Дата заявки Тип организации    Month  \\\n",
       "0     441465    AAAAIRYZRC 2019-08-22 15:06:00              ЮЛ  2019-08   \n",
       "1     441672    AAAAIRYZRC 2019-08-22 16:03:00              ЮЛ  2019-08   \n",
       "2     587893    AAADCVZNUR 2019-11-26 09:20:00              ЮЛ  2019-11   \n",
       "3     549280  AAAFBXICUBOO 2019-10-30 15:35:00              ИП  2019-10   \n",
       "4     549481  AAAFBXICUBOO 2019-10-30 16:17:00              ИП  2019-10   \n",
       "\n",
       "   Заявки до даты Дата открытия  Продукт открыт ранее  \n",
       "0               0    2019-08-27                 False  \n",
       "1               1    2019-08-27                 False  \n",
       "2               0    2019-11-28                 False  \n",
       "3               0    2019-10-31                 False  \n",
       "4               1    2019-10-31                 False  "
      ]
     },
     "execution_count": 15,
     "metadata": {},
     "output_type": "execute_result"
    }
   ],
   "source": [
    "#  проверим есть ли у нас заявки с одинаковыми инн и датами\n",
    "applications = applications.merge(open_accounts[['ИНН', 'Дата открытия']], on='ИНН', how='left', suffixes=('', '_open'))\n",
    "applications['Дата заявки'] = pd.to_datetime(applications['Дата заявки'])\n",
    "applications['Дата открытия'] = pd.to_datetime(applications['Дата открытия'])\n",
    "\n",
    "applications['Продукт открыт ранее'] = applications['Дата открытия'] < applications['Дата заявки']\n",
    "\n",
    "# заполним пропуски в столбце 'Продукт открыт ранее' значением False\n",
    "applications['Продукт открыт ранее'] = applications['Продукт открыт ранее'].fillna(False)\n",
    "\n",
    "applications.head()"
   ]
  },
  {
   "cell_type": "code",
   "execution_count": 16,
   "id": "4ab21a2e",
   "metadata": {},
   "outputs": [
    {
     "data": {
      "image/png": "[encoded data removed]",
      "text/plain": [
       "<Figure size 640x480 with 1 Axes>"
      ]
     },
     "metadata": {},
     "output_type": "display_data"
    }
   ],
   "source": [
    "\n",
    "applications['Заявки до даты'].hist(bins=20, edgecolor='black', alpha=0.7)\n",
    "plt.title('Распределение количества заявок до даты')\n",
    "plt.xlabel('Количество заявок до даты')\n",
    "plt.ylabel('Частота')\n",
    "plt.grid(axis='y', linestyle='--', alpha=0.7)\n",
    "plt.show()"
   ]
  },
  {
   "cell_type": "code",
   "execution_count": 17,
   "id": "c661a752",
   "metadata": {},
   "outputs": [
    {
     "data": {
      "text/html": [
       "<div>\n",
       "<style scoped>\n",
       "    .dataframe tbody tr th:only-of-type {\n",
       "        vertical-align: middle;\n",
       "    }\n",
       "\n",
       "    .dataframe tbody tr th {\n",
       "        vertical-align: top;\n",
       "    }\n",
       "\n",
       "    .dataframe thead th {\n",
       "        text-align: right;\n",
       "    }\n",
       "</style>\n",
       "<table border=\"1\" class=\"dataframe\">\n",
       "  <thead>\n",
       "    <tr style=\"text-align: right;\">\n",
       "      <th></th>\n",
       "      <th>IdInquiry</th>\n",
       "      <th>ИНН</th>\n",
       "      <th>Дата заявки</th>\n",
       "      <th>Тип организации</th>\n",
       "      <th>Month</th>\n",
       "      <th>Заявки до даты</th>\n",
       "      <th>Дата открытия</th>\n",
       "      <th>Продукт открыт ранее</th>\n",
       "      <th>Дата закрытия</th>\n",
       "      <th>Продукт ранее закрыт</th>\n",
       "    </tr>\n",
       "  </thead>\n",
       "  <tbody>\n",
       "    <tr>\n",
       "      <th>0</th>\n",
       "      <td>441465</td>\n",
       "      <td>AAAAIRYZRC</td>\n",
       "      <td>2019-08-22 15:06:00</td>\n",
       "      <td>ЮЛ</td>\n",
       "      <td>2019-08</td>\n",
       "      <td>0</td>\n",
       "      <td>2019-08-27</td>\n",
       "      <td>False</td>\n",
       "      <td>NaT</td>\n",
       "      <td>False</td>\n",
       "    </tr>\n",
       "    <tr>\n",
       "      <th>1</th>\n",
       "      <td>441672</td>\n",
       "      <td>AAAAIRYZRC</td>\n",
       "      <td>2019-08-22 16:03:00</td>\n",
       "      <td>ЮЛ</td>\n",
       "      <td>2019-08</td>\n",
       "      <td>1</td>\n",
       "      <td>2019-08-27</td>\n",
       "      <td>False</td>\n",
       "      <td>NaT</td>\n",
       "      <td>False</td>\n",
       "    </tr>\n",
       "    <tr>\n",
       "      <th>2</th>\n",
       "      <td>587893</td>\n",
       "      <td>AAADCVZNUR</td>\n",
       "      <td>2019-11-26 09:20:00</td>\n",
       "      <td>ЮЛ</td>\n",
       "      <td>2019-11</td>\n",
       "      <td>0</td>\n",
       "      <td>2019-11-28</td>\n",
       "      <td>False</td>\n",
       "      <td>NaT</td>\n",
       "      <td>False</td>\n",
       "    </tr>\n",
       "    <tr>\n",
       "      <th>3</th>\n",
       "      <td>549280</td>\n",
       "      <td>AAAFBXICUBOO</td>\n",
       "      <td>2019-10-30 15:35:00</td>\n",
       "      <td>ИП</td>\n",
       "      <td>2019-10</td>\n",
       "      <td>0</td>\n",
       "      <td>2019-10-31</td>\n",
       "      <td>False</td>\n",
       "      <td>NaT</td>\n",
       "      <td>False</td>\n",
       "    </tr>\n",
       "    <tr>\n",
       "      <th>4</th>\n",
       "      <td>549481</td>\n",
       "      <td>AAAFBXICUBOO</td>\n",
       "      <td>2019-10-30 16:17:00</td>\n",
       "      <td>ИП</td>\n",
       "      <td>2019-10</td>\n",
       "      <td>1</td>\n",
       "      <td>2019-10-31</td>\n",
       "      <td>False</td>\n",
       "      <td>NaT</td>\n",
       "      <td>False</td>\n",
       "    </tr>\n",
       "  </tbody>\n",
       "</table>\n",
       "</div>"
      ],
      "text/plain": [
       "   IdInquiry           ИНН         Дата заявки Тип организации    Month  \\\n",
       "0     441465    AAAAIRYZRC 2019-08-22 15:06:00              ЮЛ  2019-08   \n",
       "1     441672    AAAAIRYZRC 2019-08-22 16:03:00              ЮЛ  2019-08   \n",
       "2     587893    AAADCVZNUR 2019-11-26 09:20:00              ЮЛ  2019-11   \n",
       "3     549280  AAAFBXICUBOO 2019-10-30 15:35:00              ИП  2019-10   \n",
       "4     549481  AAAFBXICUBOO 2019-10-30 16:17:00              ИП  2019-10   \n",
       "\n",
       "   Заявки до даты Дата открытия  Продукт открыт ранее Дата закрытия  \\\n",
       "0               0    2019-08-27                 False           NaT   \n",
       "1               1    2019-08-27                 False           NaT   \n",
       "2               0    2019-11-28                 False           NaT   \n",
       "3               0    2019-10-31                 False           NaT   \n",
       "4               1    2019-10-31                 False           NaT   \n",
       "\n",
       "   Продукт ранее закрыт  \n",
       "0                 False  \n",
       "1                 False  \n",
       "2                 False  \n",
       "3                 False  \n",
       "4                 False  "
      ]
     },
     "execution_count": 17,
     "metadata": {},
     "output_type": "execute_result"
    }
   ],
   "source": [
    "# Convert 'Дата открытия' and 'Дата закрытия' to datetime, coercing errors (out-of-bounds become NaT)\n",
    "open_accounts['Дата открытия'] = pd.to_datetime(open_accounts['Дата открытия'], errors='coerce')\n",
    "open_accounts['Дата закрытия'] = pd.to_datetime(open_accounts['Дата закрытия'], errors='coerce')\n",
    "\n",
    "# Filter out rows with NaT in either date column (invalid/out-of-bounds dates)\n",
    "open_accounts = open_accounts[\n",
    "    open_accounts['Дата открытия'].notna() & open_accounts['Дата закрытия'].notna()\n",
    "]\n",
    "\n",
    "# Add a column to indicate if a product was previously closed for this ИНН\n",
    "applications = applications.merge(open_accounts[['ИНН', 'Дата закрытия']], on='ИНН', how='left', suffixes=('', '_close'))\n",
    "applications['Дата закрытия'] = pd.to_datetime(applications['Дата закрытия'], errors='coerce')\n",
    "\n",
    "# Check if a product was closed before the application date\n",
    "applications['Продукт ранее закрыт'] = applications['Дата закрытия'] < applications['Дата заявки']\n",
    "\n",
    "# Fill NaN values with False (no product closed earlier)\n",
    "applications['Продукт ранее закрыт'] = applications['Продукт ранее закрыт'].fillna(False)\n",
    "\n",
    "# Display the updated dataframe\n",
    "applications.head()"
   ]
  },
  {
   "cell_type": "code",
   "execution_count": 18,
   "id": "1a2803e0",
   "metadata": {},
   "outputs": [
    {
     "data": {
      "text/plain": [
       "(np.float64(0.23638611059544778), np.float64(0.010291634028950598))"
      ]
     },
     "execution_count": 18,
     "metadata": {},
     "output_type": "execute_result"
    }
   ],
   "source": [
    "applications['Продукт открыт ранее'].mean(),applications['Продукт ранее закрыт'].mean()"
   ]
  },
  {
   "cell_type": "code",
   "execution_count": 19,
   "id": "44ef8054",
   "metadata": {},
   "outputs": [
    {
     "name": "stderr",
     "output_type": "stream",
     "text": [
      "/var/folders/dk/6t0bvj8n45q61w7_l1c3tqn00000gn/T/ipykernel_14288/2757267331.py:11: FutureWarning:\n",
      "\n",
      "Downcasting object dtype arrays on .fillna, .ffill, .bfill is deprecated and will change in a future version. Call result.infer_objects(copy=False) instead. To opt-in to the future behavior, set `pd.set_option('future.no_silent_downcasting', True)`\n",
      "\n"
     ]
    },
    {
     "data": {
      "text/html": [
       "<div>\n",
       "<style scoped>\n",
       "    .dataframe tbody tr th:only-of-type {\n",
       "        vertical-align: middle;\n",
       "    }\n",
       "\n",
       "    .dataframe tbody tr th {\n",
       "        vertical-align: top;\n",
       "    }\n",
       "\n",
       "    .dataframe thead th {\n",
       "        text-align: right;\n",
       "    }\n",
       "</style>\n",
       "<table border=\"1\" class=\"dataframe\">\n",
       "  <thead>\n",
       "    <tr style=\"text-align: right;\">\n",
       "      <th></th>\n",
       "      <th>IdInquiry</th>\n",
       "      <th>ИНН</th>\n",
       "      <th>Дата заявки</th>\n",
       "      <th>Тип организации</th>\n",
       "      <th>Month</th>\n",
       "      <th>Заявки до даты</th>\n",
       "      <th>Дата открытия</th>\n",
       "      <th>Продукт открыт ранее</th>\n",
       "      <th>Дата закрытия</th>\n",
       "      <th>Продукт ранее закрыт</th>\n",
       "      <th>has_products</th>\n",
       "    </tr>\n",
       "  </thead>\n",
       "  <tbody>\n",
       "    <tr>\n",
       "      <th>0</th>\n",
       "      <td>441465</td>\n",
       "      <td>AAAAIRYZRC</td>\n",
       "      <td>2019-08-22 15:06:00</td>\n",
       "      <td>ЮЛ</td>\n",
       "      <td>2019-08</td>\n",
       "      <td>0</td>\n",
       "      <td>2019-08-27</td>\n",
       "      <td>False</td>\n",
       "      <td>NaT</td>\n",
       "      <td>False</td>\n",
       "      <td>False</td>\n",
       "    </tr>\n",
       "    <tr>\n",
       "      <th>1</th>\n",
       "      <td>441672</td>\n",
       "      <td>AAAAIRYZRC</td>\n",
       "      <td>2019-08-22 16:03:00</td>\n",
       "      <td>ЮЛ</td>\n",
       "      <td>2019-08</td>\n",
       "      <td>1</td>\n",
       "      <td>2019-08-27</td>\n",
       "      <td>False</td>\n",
       "      <td>NaT</td>\n",
       "      <td>False</td>\n",
       "      <td>False</td>\n",
       "    </tr>\n",
       "    <tr>\n",
       "      <th>2</th>\n",
       "      <td>587893</td>\n",
       "      <td>AAADCVZNUR</td>\n",
       "      <td>2019-11-26 09:20:00</td>\n",
       "      <td>ЮЛ</td>\n",
       "      <td>2019-11</td>\n",
       "      <td>0</td>\n",
       "      <td>2019-11-28</td>\n",
       "      <td>False</td>\n",
       "      <td>NaT</td>\n",
       "      <td>False</td>\n",
       "      <td>False</td>\n",
       "    </tr>\n",
       "    <tr>\n",
       "      <th>3</th>\n",
       "      <td>549280</td>\n",
       "      <td>AAAFBXICUBOO</td>\n",
       "      <td>2019-10-30 15:35:00</td>\n",
       "      <td>ИП</td>\n",
       "      <td>2019-10</td>\n",
       "      <td>0</td>\n",
       "      <td>2019-10-31</td>\n",
       "      <td>False</td>\n",
       "      <td>NaT</td>\n",
       "      <td>False</td>\n",
       "      <td>False</td>\n",
       "    </tr>\n",
       "    <tr>\n",
       "      <th>4</th>\n",
       "      <td>549481</td>\n",
       "      <td>AAAFBXICUBOO</td>\n",
       "      <td>2019-10-30 16:17:00</td>\n",
       "      <td>ИП</td>\n",
       "      <td>2019-10</td>\n",
       "      <td>1</td>\n",
       "      <td>2019-10-31</td>\n",
       "      <td>False</td>\n",
       "      <td>NaT</td>\n",
       "      <td>False</td>\n",
       "      <td>False</td>\n",
       "    </tr>\n",
       "  </tbody>\n",
       "</table>\n",
       "</div>"
      ],
      "text/plain": [
       "   IdInquiry           ИНН         Дата заявки Тип организации    Month  \\\n",
       "0     441465    AAAAIRYZRC 2019-08-22 15:06:00              ЮЛ  2019-08   \n",
       "1     441672    AAAAIRYZRC 2019-08-22 16:03:00              ЮЛ  2019-08   \n",
       "2     587893    AAADCVZNUR 2019-11-26 09:20:00              ЮЛ  2019-11   \n",
       "3     549280  AAAFBXICUBOO 2019-10-30 15:35:00              ИП  2019-10   \n",
       "4     549481  AAAFBXICUBOO 2019-10-30 16:17:00              ИП  2019-10   \n",
       "\n",
       "   Заявки до даты Дата открытия  Продукт открыт ранее Дата закрытия  \\\n",
       "0               0    2019-08-27                 False           NaT   \n",
       "1               1    2019-08-27                 False           NaT   \n",
       "2               0    2019-11-28                 False           NaT   \n",
       "3               0    2019-10-31                 False           NaT   \n",
       "4               1    2019-10-31                 False           NaT   \n",
       "\n",
       "   Продукт ранее закрыт  has_products  \n",
       "0                 False         False  \n",
       "1                 False         False  \n",
       "2                 False         False  \n",
       "3                 False         False  \n",
       "4                 False         False  "
      ]
     },
     "execution_count": 19,
     "metadata": {},
     "output_type": "execute_result"
    }
   ],
   "source": [
    "has_products_file['has_products'] = True  \n",
    "\n",
    "# Ensure the column name matches for merging\n",
    "has_products_file_renamed = has_products_file.rename(columns={'inn': 'ИНН'})\n",
    "\n",
    "applications = applications.merge(\n",
    "\thas_products_file_renamed[['ИНН', 'has_products']],\n",
    "\ton='ИНН', how='left'\n",
    ")\n",
    "\n",
    "# Fill NaN values with False (no products for this ИНН)\n",
    "applications['has_products'] = applications['has_products'].fillna(False).infer_objects(copy=False)\n",
    "\n",
    "# Display the updated dataframe\n",
    "applications.head()"
   ]
  },
  {
   "cell_type": "code",
   "execution_count": 20,
   "id": "a2aec2c6",
   "metadata": {},
   "outputs": [
    {
     "data": {
      "text/plain": [
       "np.float64(0.03583082858652365)"
      ]
     },
     "execution_count": 20,
     "metadata": {},
     "output_type": "execute_result"
    }
   ],
   "source": [
    "applications.has_products.mean()"
   ]
  },
  {
   "cell_type": "markdown",
   "id": "8463abdb",
   "metadata": {},
   "source": [
    "## присоединим suspensions"
   ]
  },
  {
   "cell_type": "code",
   "execution_count": 21,
   "id": "79cc2e34",
   "metadata": {},
   "outputs": [
    {
     "data": {
      "text/html": [
       "<div>\n",
       "<style scoped>\n",
       "    .dataframe tbody tr th:only-of-type {\n",
       "        vertical-align: middle;\n",
       "    }\n",
       "\n",
       "    .dataframe tbody tr th {\n",
       "        vertical-align: top;\n",
       "    }\n",
       "\n",
       "    .dataframe thead th {\n",
       "        text-align: right;\n",
       "    }\n",
       "</style>\n",
       "<table border=\"1\" class=\"dataframe\">\n",
       "  <thead>\n",
       "    <tr style=\"text-align: right;\">\n",
       "      <th></th>\n",
       "      <th>IdInquiry</th>\n",
       "      <th>ИНН</th>\n",
       "      <th>Дата заявки</th>\n",
       "      <th>Тип организации</th>\n",
       "      <th>Month</th>\n",
       "      <th>Заявки до даты</th>\n",
       "      <th>Дата открытия</th>\n",
       "      <th>Продукт открыт ранее</th>\n",
       "      <th>Дата закрытия</th>\n",
       "      <th>Продукт ранее закрыт</th>\n",
       "      <th>has_products</th>\n",
       "      <th>Дата блокировки</th>\n",
       "    </tr>\n",
       "  </thead>\n",
       "  <tbody>\n",
       "    <tr>\n",
       "      <th>0</th>\n",
       "      <td>441465</td>\n",
       "      <td>AAAAIRYZRC</td>\n",
       "      <td>2019-08-22 15:06:00</td>\n",
       "      <td>ЮЛ</td>\n",
       "      <td>2019-08</td>\n",
       "      <td>0</td>\n",
       "      <td>2019-08-27</td>\n",
       "      <td>False</td>\n",
       "      <td>NaT</td>\n",
       "      <td>False</td>\n",
       "      <td>False</td>\n",
       "      <td>NaT</td>\n",
       "    </tr>\n",
       "    <tr>\n",
       "      <th>1</th>\n",
       "      <td>441672</td>\n",
       "      <td>AAAAIRYZRC</td>\n",
       "      <td>2019-08-22 16:03:00</td>\n",
       "      <td>ЮЛ</td>\n",
       "      <td>2019-08</td>\n",
       "      <td>1</td>\n",
       "      <td>2019-08-27</td>\n",
       "      <td>False</td>\n",
       "      <td>NaT</td>\n",
       "      <td>False</td>\n",
       "      <td>False</td>\n",
       "      <td>NaT</td>\n",
       "    </tr>\n",
       "    <tr>\n",
       "      <th>2</th>\n",
       "      <td>587893</td>\n",
       "      <td>AAADCVZNUR</td>\n",
       "      <td>2019-11-26 09:20:00</td>\n",
       "      <td>ЮЛ</td>\n",
       "      <td>2019-11</td>\n",
       "      <td>0</td>\n",
       "      <td>2019-11-28</td>\n",
       "      <td>False</td>\n",
       "      <td>NaT</td>\n",
       "      <td>False</td>\n",
       "      <td>False</td>\n",
       "      <td>NaT</td>\n",
       "    </tr>\n",
       "    <tr>\n",
       "      <th>3</th>\n",
       "      <td>549280</td>\n",
       "      <td>AAAFBXICUBOO</td>\n",
       "      <td>2019-10-30 15:35:00</td>\n",
       "      <td>ИП</td>\n",
       "      <td>2019-10</td>\n",
       "      <td>0</td>\n",
       "      <td>2019-10-31</td>\n",
       "      <td>False</td>\n",
       "      <td>NaT</td>\n",
       "      <td>False</td>\n",
       "      <td>False</td>\n",
       "      <td>NaT</td>\n",
       "    </tr>\n",
       "    <tr>\n",
       "      <th>4</th>\n",
       "      <td>549481</td>\n",
       "      <td>AAAFBXICUBOO</td>\n",
       "      <td>2019-10-30 16:17:00</td>\n",
       "      <td>ИП</td>\n",
       "      <td>2019-10</td>\n",
       "      <td>1</td>\n",
       "      <td>2019-10-31</td>\n",
       "      <td>False</td>\n",
       "      <td>NaT</td>\n",
       "      <td>False</td>\n",
       "      <td>False</td>\n",
       "      <td>NaT</td>\n",
       "    </tr>\n",
       "  </tbody>\n",
       "</table>\n",
       "</div>"
      ],
      "text/plain": [
       "   IdInquiry           ИНН         Дата заявки Тип организации    Month  \\\n",
       "0     441465    AAAAIRYZRC 2019-08-22 15:06:00              ЮЛ  2019-08   \n",
       "1     441672    AAAAIRYZRC 2019-08-22 16:03:00              ЮЛ  2019-08   \n",
       "2     587893    AAADCVZNUR 2019-11-26 09:20:00              ЮЛ  2019-11   \n",
       "3     549280  AAAFBXICUBOO 2019-10-30 15:35:00              ИП  2019-10   \n",
       "4     549481  AAAFBXICUBOO 2019-10-30 16:17:00              ИП  2019-10   \n",
       "\n",
       "   Заявки до даты Дата открытия  Продукт открыт ранее Дата закрытия  \\\n",
       "0               0    2019-08-27                 False           NaT   \n",
       "1               1    2019-08-27                 False           NaT   \n",
       "2               0    2019-11-28                 False           NaT   \n",
       "3               0    2019-10-31                 False           NaT   \n",
       "4               1    2019-10-31                 False           NaT   \n",
       "\n",
       "   Продукт ранее закрыт  has_products Дата блокировки  \n",
       "0                 False         False             NaT  \n",
       "1                 False         False             NaT  \n",
       "2                 False         False             NaT  \n",
       "3                 False         False             NaT  \n",
       "4                 False         False             NaT  "
      ]
     },
     "execution_count": 21,
     "metadata": {},
     "output_type": "execute_result"
    }
   ],
   "source": [
    "# Merge suspensions data to include information about blocked accounts\n",
    "applications = applications.merge(suspensions[['ИНН', 'Дата блокировки']], on='ИНН', how='left')\n",
    "\n",
    "# Convert 'Дата блокировки' to datetime format\n",
    "applications['Дата блокировки'] = pd.to_datetime(applications['Дата блокировки'], errors='coerce')\n",
    "\n",
    "# Display the updated dataframe\n",
    "applications.head()"
   ]
  },
  {
   "cell_type": "code",
   "execution_count": 23,
   "id": "3468f3c0",
   "metadata": {},
   "outputs": [
    {
     "data": {
      "text/html": [
       "<div>\n",
       "<style scoped>\n",
       "    .dataframe tbody tr th:only-of-type {\n",
       "        vertical-align: middle;\n",
       "    }\n",
       "\n",
       "    .dataframe tbody tr th {\n",
       "        vertical-align: top;\n",
       "    }\n",
       "\n",
       "    .dataframe thead th {\n",
       "        text-align: right;\n",
       "    }\n",
       "</style>\n",
       "<table border=\"1\" class=\"dataframe\">\n",
       "  <thead>\n",
       "    <tr style=\"text-align: right;\">\n",
       "      <th></th>\n",
       "      <th>IdInquiry</th>\n",
       "      <th>ИНН</th>\n",
       "      <th>Дата заявки</th>\n",
       "      <th>Тип организации</th>\n",
       "      <th>Month</th>\n",
       "      <th>Заявки до даты</th>\n",
       "      <th>Дата открытия</th>\n",
       "      <th>Продукт открыт ранее</th>\n",
       "      <th>Дата закрытия</th>\n",
       "      <th>Продукт ранее закрыт</th>\n",
       "      <th>has_products</th>\n",
       "      <th>Дата блокировки</th>\n",
       "      <th>target</th>\n",
       "    </tr>\n",
       "  </thead>\n",
       "  <tbody>\n",
       "    <tr>\n",
       "      <th>0</th>\n",
       "      <td>441465</td>\n",
       "      <td>AAAAIRYZRC</td>\n",
       "      <td>2019-08-22 15:06:00</td>\n",
       "      <td>ЮЛ</td>\n",
       "      <td>2019-08</td>\n",
       "      <td>0</td>\n",
       "      <td>2019-08-27</td>\n",
       "      <td>False</td>\n",
       "      <td>NaT</td>\n",
       "      <td>False</td>\n",
       "      <td>False</td>\n",
       "      <td>NaT</td>\n",
       "      <td>0</td>\n",
       "    </tr>\n",
       "    <tr>\n",
       "      <th>1</th>\n",
       "      <td>441672</td>\n",
       "      <td>AAAAIRYZRC</td>\n",
       "      <td>2019-08-22 16:03:00</td>\n",
       "      <td>ЮЛ</td>\n",
       "      <td>2019-08</td>\n",
       "      <td>1</td>\n",
       "      <td>2019-08-27</td>\n",
       "      <td>False</td>\n",
       "      <td>NaT</td>\n",
       "      <td>False</td>\n",
       "      <td>False</td>\n",
       "      <td>NaT</td>\n",
       "      <td>0</td>\n",
       "    </tr>\n",
       "    <tr>\n",
       "      <th>2</th>\n",
       "      <td>587893</td>\n",
       "      <td>AAADCVZNUR</td>\n",
       "      <td>2019-11-26 09:20:00</td>\n",
       "      <td>ЮЛ</td>\n",
       "      <td>2019-11</td>\n",
       "      <td>0</td>\n",
       "      <td>2019-11-28</td>\n",
       "      <td>False</td>\n",
       "      <td>NaT</td>\n",
       "      <td>False</td>\n",
       "      <td>False</td>\n",
       "      <td>NaT</td>\n",
       "      <td>0</td>\n",
       "    </tr>\n",
       "    <tr>\n",
       "      <th>3</th>\n",
       "      <td>549280</td>\n",
       "      <td>AAAFBXICUBOO</td>\n",
       "      <td>2019-10-30 15:35:00</td>\n",
       "      <td>ИП</td>\n",
       "      <td>2019-10</td>\n",
       "      <td>0</td>\n",
       "      <td>2019-10-31</td>\n",
       "      <td>False</td>\n",
       "      <td>NaT</td>\n",
       "      <td>False</td>\n",
       "      <td>False</td>\n",
       "      <td>NaT</td>\n",
       "      <td>0</td>\n",
       "    </tr>\n",
       "    <tr>\n",
       "      <th>4</th>\n",
       "      <td>549481</td>\n",
       "      <td>AAAFBXICUBOO</td>\n",
       "      <td>2019-10-30 16:17:00</td>\n",
       "      <td>ИП</td>\n",
       "      <td>2019-10</td>\n",
       "      <td>1</td>\n",
       "      <td>2019-10-31</td>\n",
       "      <td>False</td>\n",
       "      <td>NaT</td>\n",
       "      <td>False</td>\n",
       "      <td>False</td>\n",
       "      <td>NaT</td>\n",
       "      <td>0</td>\n",
       "    </tr>\n",
       "  </tbody>\n",
       "</table>\n",
       "</div>"
      ],
      "text/plain": [
       "   IdInquiry           ИНН         Дата заявки Тип организации    Month  \\\n",
       "0     441465    AAAAIRYZRC 2019-08-22 15:06:00              ЮЛ  2019-08   \n",
       "1     441672    AAAAIRYZRC 2019-08-22 16:03:00              ЮЛ  2019-08   \n",
       "2     587893    AAADCVZNUR 2019-11-26 09:20:00              ЮЛ  2019-11   \n",
       "3     549280  AAAFBXICUBOO 2019-10-30 15:35:00              ИП  2019-10   \n",
       "4     549481  AAAFBXICUBOO 2019-10-30 16:17:00              ИП  2019-10   \n",
       "\n",
       "   Заявки до даты Дата открытия  Продукт открыт ранее Дата закрытия  \\\n",
       "0               0    2019-08-27                 False           NaT   \n",
       "1               1    2019-08-27                 False           NaT   \n",
       "2               0    2019-11-28                 False           NaT   \n",
       "3               0    2019-10-31                 False           NaT   \n",
       "4               1    2019-10-31                 False           NaT   \n",
       "\n",
       "   Продукт ранее закрыт  has_products Дата блокировки  target  \n",
       "0                 False         False             NaT       0  \n",
       "1                 False         False             NaT       0  \n",
       "2                 False         False             NaT       0  \n",
       "3                 False         False             NaT       0  \n",
       "4                 False         False             NaT       0  "
      ]
     },
     "execution_count": 23,
     "metadata": {},
     "output_type": "execute_result"
    }
   ],
   "source": [
    "# создаем целевую переменную - что был заблокирован продукт в интервале 6 месяцев после даты заявки\n",
    "applications['target'] = applications.apply(\n",
    "    lambda x: 1 if (x['Дата блокировки'] >= x['Дата заявки']) and (x['Дата блокировки'] <= x['Дата заявки'] + pd.DateOffset(months=6)) else 0,\n",
    "    axis=1\n",
    ")\n",
    "\n",
    "# Display the updated dataframe\n",
    "applications.head()\n"
   ]
  },
  {
   "cell_type": "code",
   "execution_count": 24,
   "id": "7b1c5c59",
   "metadata": {},
   "outputs": [
    {
     "data": {
      "application/vnd.plotly.v1+json": {
       "config": {
        "plotlyServerURL": "https://plot.ly"
       },
       "data": [
        {
         "hovertemplate": "Тип организации=ИП<br>Месяц=%{x}<br>Доля таргета=%{y}<extra></extra>",
         "legendgroup": "ИП",
         "line": {
          "color": "#636efa",
          "dash": "solid"
         },
         "marker": {
          "symbol": "circle"
         },
         "mode": "lines",
         "name": "ИП",
         "orientation": "v",
         "showlegend": true,
         "type": "scatter",
         "x": [
          "2018-06",
          "2018-07",
          "2018-08",
          "2018-09",
          "2018-10",
          "2018-11",
          "2018-12",
          "2019-01",
          "2019-02",
          "2019-03",
          "2019-04",
          "2019-05",
          "2019-06",
          "2019-07",
          "2019-08",
          "2019-09",
          "2019-10",
          "2019-11",
          "2019-12"
         ],
         "xaxis": "x",
         "y": {
          "bdata": "hxMBeW04cT/mMcXfCyRbP40mBcCmiIY/sEkXfLJFjz9DwbHdCwmhP7JnvRc7s7A/bxVxtlIAtT+wMVuhDEW/PxGYAhqWCr4/XWfbsqjCvD+TV2SQG+K7PzLLe458Krs//nj4NmxTuD+JlfENFFy6PxioVPuSXLg/9yTeC1Autj9jifFU1Um1PxQAnyifZrA/I83aODG1pT8=",
          "dtype": "f8"
         },
         "yaxis": "y"
        },
        {
         "hovertemplate": "Тип организации=ЮЛ<br>Месяц=%{x}<br>Доля таргета=%{y}<extra></extra>",
         "legendgroup": "ЮЛ",
         "line": {
          "color": "#EF553B",
          "dash": "solid"
         },
         "marker": {
          "symbol": "circle"
         },
         "mode": "lines",
         "name": "ЮЛ",
         "orientation": "v",
         "showlegend": true,
         "type": "scatter",
         "x": [
          "2018-06",
          "2018-07",
          "2018-08",
          "2018-09",
          "2018-10",
          "2018-11",
          "2018-12",
          "2019-01",
          "2019-02",
          "2019-03",
          "2019-04",
          "2019-05",
          "2019-06",
          "2019-07",
          "2019-08",
          "2019-09",
          "2019-10",
          "2019-11",
          "2019-12"
         ],
         "xaxis": "x",
         "y": {
          "bdata": "Qxl034xCiT8Z8nsZ8nuJP8VwNSeuZ5Y/jHqfVhxUmj/9LeUEOUWkPyOiywAuj7g/YakySpGTvj/o0DciuNTFP6Zoy++Dusg/iggCYtrqxz8VUi6bLOTJP0KVxJg51cg/w7uvBdxUyD+Eq4reCgfHP55mU8WXZcU/e48CiyIuwz/1hlki3d/BP/NQulfJjb4/dbJLwp3NuD8=",
          "dtype": "f8"
         },
         "yaxis": "y"
        }
       ],
       "layout": {
        "legend": {
         "title": {
          "text": "Тип организации"
         },
         "tracegroupgap": 0
        },
        "template": {
         "data": {
          "bar": [
           {
            "error_x": {
             "color": "#2a3f5f"
            },
            "error_y": {
             "color": "#2a3f5f"
            },
            "marker": {
             "line": {
              "color": "#E5ECF6",
              "width": 0.5
             },
             "pattern": {
              "fillmode": "overlay",
              "size": 10,
              "solidity": 0.2
             }
            },
            "type": "bar"
           }
          ],
          "barpolar": [
           {
            "marker": {
             "line": {
              "color": "#E5ECF6",
              "width": 0.5
             },
             "pattern": {
              "fillmode": "overlay",
              "size": 10,
              "solidity": 0.2
             }
            },
            "type": "barpolar"
           }
          ],
          "carpet": [
           {
            "aaxis": {
             "endlinecolor": "#2a3f5f",
             "gridcolor": "white",
             "linecolor": "white",
             "minorgridcolor": "white",
             "startlinecolor": "#2a3f5f"
            },
            "baxis": {
             "endlinecolor": "#2a3f5f",
             "gridcolor": "white",
             "linecolor": "white",
             "minorgridcolor": "white",
             "startlinecolor": "#2a3f5f"
            },
            "type": "carpet"
           }
          ],
          "choropleth": [
           {
            "colorbar": {
             "outlinewidth": 0,
             "ticks": ""
            },
            "type": "choropleth"
           }
          ],
          "contour": [
           {
            "colorbar": {
             "outlinewidth": 0,
             "ticks": ""
            },
            "colorscale": [
             [
              0,
              "#0d0887"
             ],
             [
              0.1111111111111111,
              "#46039f"
             ],
             [
              0.2222222222222222,
              "#7201a8"
             ],
             [
              0.3333333333333333,
              "#9c179e"
             ],
             [
              0.4444444444444444,
              "#bd3786"
             ],
             [
              0.5555555555555556,
              "#d8576b"
             ],
             [
              0.6666666666666666,
              "#ed7953"
             ],
             [
              0.7777777777777778,
              "#fb9f3a"
             ],
             [
              0.8888888888888888,
              "#fdca26"
             ],
             [
              1,
              "#f0f921"
             ]
            ],
            "type": "contour"
           }
          ],
          "contourcarpet": [
           {
            "colorbar": {
             "outlinewidth": 0,
             "ticks": ""
            },
            "type": "contourcarpet"
           }
          ],
          "heatmap": [
           {
            "colorbar": {
             "outlinewidth": 0,
             "ticks": ""
            },
            "colorscale": [
             [
              0,
              "#0d0887"
             ],
             [
              0.1111111111111111,
              "#46039f"
             ],
             [
              0.2222222222222222,
              "#7201a8"
             ],
             [
              0.3333333333333333,
              "#9c179e"
             ],
             [
              0.4444444444444444,
              "#bd3786"
             ],
             [
              0.5555555555555556,
              "#d8576b"
             ],
             [
              0.6666666666666666,
              "#ed7953"
             ],
             [
              0.7777777777777778,
              "#fb9f3a"
             ],
             [
              0.8888888888888888,
              "#fdca26"
             ],
             [
              1,
              "#f0f921"
             ]
            ],
            "type": "heatmap"
           }
          ],
          "histogram": [
           {
            "marker": {
             "pattern": {
              "fillmode": "overlay",
              "size": 10,
              "solidity": 0.2
             }
            },
            "type": "histogram"
           }
          ],
          "histogram2d": [
           {
            "colorbar": {
             "outlinewidth": 0,
             "ticks": ""
            },
            "colorscale": [
             [
              0,
              "#0d0887"
             ],
             [
              0.1111111111111111,
              "#46039f"
             ],
             [
              0.2222222222222222,
              "#7201a8"
             ],
             [
              0.3333333333333333,
              "#9c179e"
             ],
             [
              0.4444444444444444,
              "#bd3786"
             ],
             [
              0.5555555555555556,
              "#d8576b"
             ],
             [
              0.6666666666666666,
              "#ed7953"
             ],
             [
              0.7777777777777778,
              "#fb9f3a"
             ],
             [
              0.8888888888888888,
              "#fdca26"
             ],
             [
              1,
              "#f0f921"
             ]
            ],
            "type": "histogram2d"
           }
          ],
          "histogram2dcontour": [
           {
            "colorbar": {
             "outlinewidth": 0,
             "ticks": ""
            },
            "colorscale": [
             [
              0,
              "#0d0887"
             ],
             [
              0.1111111111111111,
              "#46039f"
             ],
             [
              0.2222222222222222,
              "#7201a8"
             ],
             [
              0.3333333333333333,
              "#9c179e"
             ],
             [
              0.4444444444444444,
              "#bd3786"
             ],
             [
              0.5555555555555556,
              "#d8576b"
             ],
             [
              0.6666666666666666,
              "#ed7953"
             ],
             [
              0.7777777777777778,
              "#fb9f3a"
             ],
             [
              0.8888888888888888,
              "#fdca26"
             ],
             [
              1,
              "#f0f921"
             ]
            ],
            "type": "histogram2dcontour"
           }
          ],
          "mesh3d": [
           {
            "colorbar": {
             "outlinewidth": 0,
             "ticks": ""
            },
            "type": "mesh3d"
           }
          ],
          "parcoords": [
           {
            "line": {
             "colorbar": {
              "outlinewidth": 0,
              "ticks": ""
             }
            },
            "type": "parcoords"
           }
          ],
          "pie": [
           {
            "automargin": true,
            "type": "pie"
           }
          ],
          "scatter": [
           {
            "fillpattern": {
             "fillmode": "overlay",
             "size": 10,
             "solidity": 0.2
            },
            "type": "scatter"
           }
          ],
          "scatter3d": [
           {
            "line": {
             "colorbar": {
              "outlinewidth": 0,
              "ticks": ""
             }
            },
            "marker": {
             "colorbar": {
              "outlinewidth": 0,
              "ticks": ""
             }
            },
            "type": "scatter3d"
           }
          ],
          "scattercarpet": [
           {
            "marker": {
             "colorbar": {
              "outlinewidth": 0,
              "ticks": ""
             }
            },
            "type": "scattercarpet"
           }
          ],
          "scattergeo": [
           {
            "marker": {
             "colorbar": {
              "outlinewidth": 0,
              "ticks": ""
             }
            },
            "type": "scattergeo"
           }
          ],
          "scattergl": [
           {
            "marker": {
             "colorbar": {
              "outlinewidth": 0,
              "ticks": ""
             }
            },
            "type": "scattergl"
           }
          ],
          "scattermap": [
           {
            "marker": {
             "colorbar": {
              "outlinewidth": 0,
              "ticks": ""
             }
            },
            "type": "scattermap"
           }
          ],
          "scattermapbox": [
           {
            "marker": {
             "colorbar": {
              "outlinewidth": 0,
              "ticks": ""
             }
            },
            "type": "scattermapbox"
           }
          ],
          "scatterpolar": [
           {
            "marker": {
             "colorbar": {
              "outlinewidth": 0,
              "ticks": ""
             }
            },
            "type": "scatterpolar"
           }
          ],
          "scatterpolargl": [
           {
            "marker": {
             "colorbar": {
              "outlinewidth": 0,
              "ticks": ""
             }
            },
            "type": "scatterpolargl"
           }
          ],
          "scatterternary": [
           {
            "marker": {
             "colorbar": {
              "outlinewidth": 0,
              "ticks": ""
             }
            },
            "type": "scatterternary"
           }
          ],
          "surface": [
           {
            "colorbar": {
             "outlinewidth": 0,
             "ticks": ""
            },
            "colorscale": [
             [
              0,
              "#0d0887"
             ],
             [
              0.1111111111111111,
              "#46039f"
             ],
             [
              0.2222222222222222,
              "#7201a8"
             ],
             [
              0.3333333333333333,
              "#9c179e"
             ],
             [
              0.4444444444444444,
              "#bd3786"
             ],
             [
              0.5555555555555556,
              "#d8576b"
             ],
             [
              0.6666666666666666,
              "#ed7953"
             ],
             [
              0.7777777777777778,
              "#fb9f3a"
             ],
             [
              0.8888888888888888,
              "#fdca26"
             ],
             [
              1,
              "#f0f921"
             ]
            ],
            "type": "surface"
           }
          ],
          "table": [
           {
            "cells": {
             "fill": {
              "color": "#EBF0F8"
             },
             "line": {
              "color": "white"
             }
            },
            "header": {
             "fill": {
              "color": "#C8D4E3"
             },
             "line": {
              "color": "white"
             }
            },
            "type": "table"
           }
          ]
         },
         "layout": {
          "annotationdefaults": {
           "arrowcolor": "#2a3f5f",
           "arrowhead": 0,
           "arrowwidth": 1
          },
          "autotypenumbers": "strict",
          "coloraxis": {
           "colorbar": {
            "outlinewidth": 0,
            "ticks": ""
           }
          },
          "colorscale": {
           "diverging": [
            [
             0,
             "#8e0152"
            ],
            [
             0.1,
             "#c51b7d"
            ],
            [
             0.2,
             "#de77ae"
            ],
            [
             0.3,
             "#f1b6da"
            ],
            [
             0.4,
             "#fde0ef"
            ],
            [
             0.5,
             "#f7f7f7"
            ],
            [
             0.6,
             "#e6f5d0"
            ],
            [
             0.7,
             "#b8e186"
            ],
            [
             0.8,
             "#7fbc41"
            ],
            [
             0.9,
             "#4d9221"
            ],
            [
             1,
             "#276419"
            ]
           ],
           "sequential": [
            [
             0,
             "#0d0887"
            ],
            [
             0.1111111111111111,
             "#46039f"
            ],
            [
             0.2222222222222222,
             "#7201a8"
            ],
            [
             0.3333333333333333,
             "#9c179e"
            ],
            [
             0.4444444444444444,
             "#bd3786"
            ],
            [
             0.5555555555555556,
             "#d8576b"
            ],
            [
             0.6666666666666666,
             "#ed7953"
            ],
            [
             0.7777777777777778,
             "#fb9f3a"
            ],
            [
             0.8888888888888888,
             "#fdca26"
            ],
            [
             1,
             "#f0f921"
            ]
           ],
           "sequentialminus": [
            [
             0,
             "#0d0887"
            ],
            [
             0.1111111111111111,
             "#46039f"
            ],
            [
             0.2222222222222222,
             "#7201a8"
            ],
            [
             0.3333333333333333,
             "#9c179e"
            ],
            [
             0.4444444444444444,
             "#bd3786"
            ],
            [
             0.5555555555555556,
             "#d8576b"
            ],
            [
             0.6666666666666666,
             "#ed7953"
            ],
            [
             0.7777777777777778,
             "#fb9f3a"
            ],
            [
             0.8888888888888888,
             "#fdca26"
            ],
            [
             1,
             "#f0f921"
            ]
           ]
          },
          "colorway": [
           "#636efa",
           "#EF553B",
           "#00cc96",
           "#ab63fa",
           "#FFA15A",
           "#19d3f3",
           "#FF6692",
           "#B6E880",
           "#FF97FF",
           "#FECB52"
          ],
          "font": {
           "color": "#2a3f5f"
          },
          "geo": {
           "bgcolor": "white",
           "lakecolor": "white",
           "landcolor": "#E5ECF6",
           "showlakes": true,
           "showland": true,
           "subunitcolor": "white"
          },
          "hoverlabel": {
           "align": "left"
          },
          "hovermode": "closest",
          "mapbox": {
           "style": "light"
          },
          "paper_bgcolor": "white",
          "plot_bgcolor": "#E5ECF6",
          "polar": {
           "angularaxis": {
            "gridcolor": "white",
            "linecolor": "white",
            "ticks": ""
           },
           "bgcolor": "#E5ECF6",
           "radialaxis": {
            "gridcolor": "white",
            "linecolor": "white",
            "ticks": ""
           }
          },
          "scene": {
           "xaxis": {
            "backgroundcolor": "#E5ECF6",
            "gridcolor": "white",
            "gridwidth": 2,
            "linecolor": "white",
            "showbackground": true,
            "ticks": "",
            "zerolinecolor": "white"
           },
           "yaxis": {
            "backgroundcolor": "#E5ECF6",
            "gridcolor": "white",
            "gridwidth": 2,
            "linecolor": "white",
            "showbackground": true,
            "ticks": "",
            "zerolinecolor": "white"
           },
           "zaxis": {
            "backgroundcolor": "#E5ECF6",
            "gridcolor": "white",
            "gridwidth": 2,
            "linecolor": "white",
            "showbackground": true,
            "ticks": "",
            "zerolinecolor": "white"
           }
          },
          "shapedefaults": {
           "line": {
            "color": "#2a3f5f"
           }
          },
          "ternary": {
           "aaxis": {
            "gridcolor": "white",
            "linecolor": "white",
            "ticks": ""
           },
           "baxis": {
            "gridcolor": "white",
            "linecolor": "white",
            "ticks": ""
           },
           "bgcolor": "#E5ECF6",
           "caxis": {
            "gridcolor": "white",
            "linecolor": "white",
            "ticks": ""
           }
          },
          "title": {
           "x": 0.05
          },
          "xaxis": {
           "automargin": true,
           "gridcolor": "white",
           "linecolor": "white",
           "ticks": "",
           "title": {
            "standoff": 15
           },
           "zerolinecolor": "white",
           "zerolinewidth": 2
          },
          "yaxis": {
           "automargin": true,
           "gridcolor": "white",
           "linecolor": "white",
           "ticks": "",
           "title": {
            "standoff": 15
           },
           "zerolinecolor": "white",
           "zerolinewidth": 2
          }
         }
        },
        "title": {
         "text": "Динамика таргета в разрезе по типу организации"
        },
        "xaxis": {
         "anchor": "y",
         "domain": [
          0,
          1
         ],
         "title": {
          "text": "Месяц"
         }
        },
        "yaxis": {
         "anchor": "x",
         "domain": [
          0,
          1
         ],
         "title": {
          "text": "Доля таргета"
         }
        }
       }
      }
     },
     "metadata": {},
     "output_type": "display_data"
    }
   ],
   "source": [
    "# нарисуем динамику таргета в разрезе по типу организации\n",
    "# Группируем данные по месяцу и типу организации как долю от числа заявок по типу организации\n",
    "\n",
    "# посчитаем долю таргета по типу организации\n",
    "applications['Month'] = applications['Дата заявки'].dt.to_period('M')\n",
    "\n",
    "data_grouped = applications.groupby(['Month', 'Тип организации']).agg(\n",
    "    total=('target', 'size'),\n",
    "    target_ratio=('target', 'mean')\n",
    ").reset_index()\n",
    "\n",
    "data_grouped['Month'] = data_grouped['Month'].astype(str)\n",
    "\n",
    "# построим график\n",
    "fig = px.line(\n",
    "    data_grouped,\n",
    "    x='Month',\n",
    "    y='target_ratio',\n",
    "    color='Тип организации',\n",
    "    title='Динамика таргета в разрезе по типу организации',\n",
    "    labels={'Month': 'Месяц', 'target_ratio': 'Доля таргета', 'Тип организации': 'Тип организации'}\n",
    ")\n",
    "\n",
    "fig.update_layout(xaxis_title='Месяц', yaxis_title='Доля таргета')\n",
    "fig.show()"
   ]
  },
  {
   "cell_type": "markdown",
   "id": "4fdc2700",
   "metadata": {},
   "source": [
    "* сразу видим проблему - у нас сезонность в данных, но меньше двух лет. мы не можем использовать скользящее среднее для учета сезонности\n",
    "* добавим флаг, что это выходной\n",
    "* добавим флаг, что это праздничный день\n"
   ]
  },
  {
   "cell_type": "code",
   "execution_count": 26,
   "id": "3fdee37b",
   "metadata": {},
   "outputs": [
    {
     "data": {
      "text/plain": [
       "Index(['IdInquiry', 'ИНН', 'Дата заявки', 'Тип организации', 'Month',\n",
       "       'Заявки до даты', 'Дата открытия', 'Продукт открыт ранее',\n",
       "       'Дата закрытия', 'Продукт ранее закрыт', 'has_products',\n",
       "       'Дата блокировки', 'target'],\n",
       "      dtype='object')"
      ]
     },
     "execution_count": 26,
     "metadata": {},
     "output_type": "execute_result"
    }
   ],
   "source": [
    "applications.columns"
   ]
  },
  {
   "cell_type": "code",
   "execution_count": 36,
   "id": "67aaeb9d",
   "metadata": {},
   "outputs": [
    {
     "data": {
      "text/html": [
       "<div>\n",
       "<style scoped>\n",
       "    .dataframe tbody tr th:only-of-type {\n",
       "        vertical-align: middle;\n",
       "    }\n",
       "\n",
       "    .dataframe tbody tr th {\n",
       "        vertical-align: top;\n",
       "    }\n",
       "\n",
       "    .dataframe thead th {\n",
       "        text-align: right;\n",
       "    }\n",
       "</style>\n",
       "<table border=\"1\" class=\"dataframe\">\n",
       "  <thead>\n",
       "    <tr style=\"text-align: right;\">\n",
       "      <th></th>\n",
       "      <th>has_products</th>\n",
       "      <th>Продукт открыт ранее</th>\n",
       "      <th>Продукт ранее закрыт</th>\n",
       "      <th>Заявки до даты</th>\n",
       "      <th>Тип организации_ЮЛ</th>\n",
       "    </tr>\n",
       "  </thead>\n",
       "  <tbody>\n",
       "    <tr>\n",
       "      <th>0</th>\n",
       "      <td>0</td>\n",
       "      <td>0</td>\n",
       "      <td>0</td>\n",
       "      <td>0</td>\n",
       "      <td>1</td>\n",
       "    </tr>\n",
       "    <tr>\n",
       "      <th>1</th>\n",
       "      <td>0</td>\n",
       "      <td>0</td>\n",
       "      <td>0</td>\n",
       "      <td>1</td>\n",
       "      <td>1</td>\n",
       "    </tr>\n",
       "    <tr>\n",
       "      <th>2</th>\n",
       "      <td>0</td>\n",
       "      <td>0</td>\n",
       "      <td>0</td>\n",
       "      <td>0</td>\n",
       "      <td>1</td>\n",
       "    </tr>\n",
       "    <tr>\n",
       "      <th>3</th>\n",
       "      <td>0</td>\n",
       "      <td>0</td>\n",
       "      <td>0</td>\n",
       "      <td>0</td>\n",
       "      <td>0</td>\n",
       "    </tr>\n",
       "    <tr>\n",
       "      <th>4</th>\n",
       "      <td>0</td>\n",
       "      <td>0</td>\n",
       "      <td>0</td>\n",
       "      <td>1</td>\n",
       "      <td>0</td>\n",
       "    </tr>\n",
       "    <tr>\n",
       "      <th>...</th>\n",
       "      <td>...</td>\n",
       "      <td>...</td>\n",
       "      <td>...</td>\n",
       "      <td>...</td>\n",
       "      <td>...</td>\n",
       "    </tr>\n",
       "    <tr>\n",
       "      <th>453779</th>\n",
       "      <td>0</td>\n",
       "      <td>0</td>\n",
       "      <td>0</td>\n",
       "      <td>0</td>\n",
       "      <td>0</td>\n",
       "    </tr>\n",
       "    <tr>\n",
       "      <th>453780</th>\n",
       "      <td>0</td>\n",
       "      <td>0</td>\n",
       "      <td>0</td>\n",
       "      <td>0</td>\n",
       "      <td>0</td>\n",
       "    </tr>\n",
       "    <tr>\n",
       "      <th>453781</th>\n",
       "      <td>0</td>\n",
       "      <td>0</td>\n",
       "      <td>0</td>\n",
       "      <td>1</td>\n",
       "      <td>0</td>\n",
       "    </tr>\n",
       "    <tr>\n",
       "      <th>453782</th>\n",
       "      <td>0</td>\n",
       "      <td>0</td>\n",
       "      <td>0</td>\n",
       "      <td>0</td>\n",
       "      <td>0</td>\n",
       "    </tr>\n",
       "    <tr>\n",
       "      <th>453783</th>\n",
       "      <td>0</td>\n",
       "      <td>1</td>\n",
       "      <td>0</td>\n",
       "      <td>1</td>\n",
       "      <td>0</td>\n",
       "    </tr>\n",
       "  </tbody>\n",
       "</table>\n",
       "<p>453784 rows × 5 columns</p>\n",
       "</div>"
      ],
      "text/plain": [
       "        has_products  Продукт открыт ранее  Продукт ранее закрыт  \\\n",
       "0                  0                     0                     0   \n",
       "1                  0                     0                     0   \n",
       "2                  0                     0                     0   \n",
       "3                  0                     0                     0   \n",
       "4                  0                     0                     0   \n",
       "...              ...                   ...                   ...   \n",
       "453779             0                     0                     0   \n",
       "453780             0                     0                     0   \n",
       "453781             0                     0                     0   \n",
       "453782             0                     0                     0   \n",
       "453783             0                     1                     0   \n",
       "\n",
       "        Заявки до даты  Тип организации_ЮЛ  \n",
       "0                    0                   1  \n",
       "1                    1                   1  \n",
       "2                    0                   1  \n",
       "3                    0                   0  \n",
       "4                    1                   0  \n",
       "...                ...                 ...  \n",
       "453779               0                   0  \n",
       "453780               0                   0  \n",
       "453781               1                   0  \n",
       "453782               0                   0  \n",
       "453783               1                   0  \n",
       "\n",
       "[453784 rows x 5 columns]"
      ]
     },
     "execution_count": 36,
     "metadata": {},
     "output_type": "execute_result"
    }
   ],
   "source": [
    "target = applications['target']\n",
    "features = applications[[\n",
    "    'Тип организации',\n",
    "    'has_products',\n",
    "    'Продукт открыт ранее',\n",
    "    'Продукт ранее закрыт',\n",
    "    'Заявки до даты'\n",
    "]].copy()\n",
    "# преобразуем булевы в 0 и 1\n",
    "features = pd.get_dummies(features, columns=['Тип организации'], drop_first=True)\n",
    "\n",
    "features['has_products'] = features['has_products'].astype(int)\n",
    "features['Продукт открыт ранее'] = features['Продукт открыт ранее'].astype(int)\n",
    "features['Продукт ранее закрыт'] = features['Продукт ранее закрыт'].astype(int)\n",
    "features['Тип организации_ЮЛ'] = features['Тип организации_ЮЛ'].astype(int)\n",
    "\n",
    "# преобразуем тип организации в числовой\n",
    "# создаем дамми переменные\n",
    "features"
   ]
  },
  {
   "cell_type": "code",
   "execution_count": 34,
   "id": "9b940656",
   "metadata": {},
   "outputs": [],
   "source": [
    "# Add polynomial encoding (4 series per year) for 'Дата заявки'\n",
    "applications['Дата заявки'] = pd.to_datetime(applications['Дата заявки'])\n",
    "applications['Year'] = applications['Дата заявки'].dt.year\n",
    "applications['DayOfYear'] = applications['Дата заявки'].dt.dayofyear\n",
    "\n",
    "# Polynomial encoding (4 series per year)\n",
    "applications['Poly1'] = np.sin(2 * np.pi * applications['DayOfYear'] / 91.25)\n",
    "applications['Poly2'] = np.cos(2 * np.pi * applications['DayOfYear'] / 91.25)\n",
    "applications['Poly3'] = np.sin(4 * np.pi * applications['DayOfYear'] / 91.25)\n",
    "applications['Poly4'] = np.cos(4 * np.pi * applications['DayOfYear'] / 91.25)"
   ]
  },
  {
   "cell_type": "code",
   "execution_count": 35,
   "id": "5efd594e",
   "metadata": {},
   "outputs": [],
   "source": [
    "# Add trigonometric encoding for time within 'Дата заявки'\n",
    "applications['Hour'] = applications['Дата заявки'].dt.hour\n",
    "applications['Minute'] = applications['Дата заявки'].dt.minute\n",
    "applications['Second'] = applications['Дата заявки'].dt.second\n",
    "\n",
    "# Convert time to seconds since midnight\n",
    "time_in_seconds = applications['Hour'] * 3600 + applications['Minute'] * 60 + applications['Second']\n",
    "seconds_in_day = 24 * 3600\n",
    "\n",
    "# Trigonometric encoding\n",
    "applications['TimeSin'] = np.sin(2 * np.pi * time_in_seconds / seconds_in_day)\n",
    "applications['TimeCos'] = np.cos(2 * np.pi * time_in_seconds / seconds_in_day)"
   ]
  },
  {
   "cell_type": "code",
   "execution_count": 36,
   "id": "f10ecf4b",
   "metadata": {},
   "outputs": [],
   "source": [
    "# Add weekday encoding for 'Дата заявки'\n",
    "applications['Weekday'] = applications['Дата заявки'].dt.weekday\n",
    "applications = pd.get_dummies(applications, columns=['Weekday'], prefix='Weekday', drop_first=True)"
   ]
  },
  {
   "cell_type": "code",
   "execution_count": 37,
   "id": "12abb566",
   "metadata": {},
   "outputs": [
    {
     "data": {
      "text/html": [
       "<div>\n",
       "<style scoped>\n",
       "    .dataframe tbody tr th:only-of-type {\n",
       "        vertical-align: middle;\n",
       "    }\n",
       "\n",
       "    .dataframe tbody tr th {\n",
       "        vertical-align: top;\n",
       "    }\n",
       "\n",
       "    .dataframe thead th {\n",
       "        text-align: right;\n",
       "    }\n",
       "</style>\n",
       "<table border=\"1\" class=\"dataframe\">\n",
       "  <thead>\n",
       "    <tr style=\"text-align: right;\">\n",
       "      <th></th>\n",
       "      <th>IdInquiry</th>\n",
       "      <th>ИНН</th>\n",
       "      <th>Дата заявки</th>\n",
       "      <th>Тип организации</th>\n",
       "      <th>Month</th>\n",
       "      <th>Заявки до даты</th>\n",
       "      <th>Дата открытия</th>\n",
       "      <th>Продукт открыт ранее</th>\n",
       "      <th>Дата закрытия</th>\n",
       "      <th>Продукт ранее закрыт</th>\n",
       "      <th>...</th>\n",
       "      <th>Minute</th>\n",
       "      <th>Second</th>\n",
       "      <th>TimeSin</th>\n",
       "      <th>TimeCos</th>\n",
       "      <th>Weekday_1</th>\n",
       "      <th>Weekday_2</th>\n",
       "      <th>Weekday_3</th>\n",
       "      <th>Weekday_4</th>\n",
       "      <th>Weekday_5</th>\n",
       "      <th>Weekday_6</th>\n",
       "    </tr>\n",
       "  </thead>\n",
       "  <tbody>\n",
       "    <tr>\n",
       "      <th>0</th>\n",
       "      <td>441465</td>\n",
       "      <td>AAAAIRYZRC</td>\n",
       "      <td>2019-08-22 15:06:00</td>\n",
       "      <td>ЮЛ</td>\n",
       "      <td>2019-08</td>\n",
       "      <td>0</td>\n",
       "      <td>2019-08-27</td>\n",
       "      <td>False</td>\n",
       "      <td>NaT</td>\n",
       "      <td>False</td>\n",
       "      <td>...</td>\n",
       "      <td>6</td>\n",
       "      <td>0</td>\n",
       "      <td>-7.253744e-01</td>\n",
       "      <td>-0.688355</td>\n",
       "      <td>False</td>\n",
       "      <td>False</td>\n",
       "      <td>True</td>\n",
       "      <td>False</td>\n",
       "      <td>False</td>\n",
       "      <td>False</td>\n",
       "    </tr>\n",
       "    <tr>\n",
       "      <th>1</th>\n",
       "      <td>441672</td>\n",
       "      <td>AAAAIRYZRC</td>\n",
       "      <td>2019-08-22 16:03:00</td>\n",
       "      <td>ЮЛ</td>\n",
       "      <td>2019-08</td>\n",
       "      <td>1</td>\n",
       "      <td>2019-08-27</td>\n",
       "      <td>False</td>\n",
       "      <td>NaT</td>\n",
       "      <td>False</td>\n",
       "      <td>...</td>\n",
       "      <td>3</td>\n",
       "      <td>0</td>\n",
       "      <td>-8.724960e-01</td>\n",
       "      <td>-0.488621</td>\n",
       "      <td>False</td>\n",
       "      <td>False</td>\n",
       "      <td>True</td>\n",
       "      <td>False</td>\n",
       "      <td>False</td>\n",
       "      <td>False</td>\n",
       "    </tr>\n",
       "    <tr>\n",
       "      <th>2</th>\n",
       "      <td>587893</td>\n",
       "      <td>AAADCVZNUR</td>\n",
       "      <td>2019-11-26 09:20:00</td>\n",
       "      <td>ЮЛ</td>\n",
       "      <td>2019-11</td>\n",
       "      <td>0</td>\n",
       "      <td>2019-11-28</td>\n",
       "      <td>False</td>\n",
       "      <td>NaT</td>\n",
       "      <td>False</td>\n",
       "      <td>...</td>\n",
       "      <td>20</td>\n",
       "      <td>0</td>\n",
       "      <td>6.427876e-01</td>\n",
       "      <td>-0.766044</td>\n",
       "      <td>True</td>\n",
       "      <td>False</td>\n",
       "      <td>False</td>\n",
       "      <td>False</td>\n",
       "      <td>False</td>\n",
       "      <td>False</td>\n",
       "    </tr>\n",
       "    <tr>\n",
       "      <th>3</th>\n",
       "      <td>549280</td>\n",
       "      <td>AAAFBXICUBOO</td>\n",
       "      <td>2019-10-30 15:35:00</td>\n",
       "      <td>ИП</td>\n",
       "      <td>2019-10</td>\n",
       "      <td>0</td>\n",
       "      <td>2019-10-31</td>\n",
       "      <td>False</td>\n",
       "      <td>NaT</td>\n",
       "      <td>False</td>\n",
       "      <td>...</td>\n",
       "      <td>35</td>\n",
       "      <td>0</td>\n",
       "      <td>-8.064446e-01</td>\n",
       "      <td>-0.591310</td>\n",
       "      <td>False</td>\n",
       "      <td>True</td>\n",
       "      <td>False</td>\n",
       "      <td>False</td>\n",
       "      <td>False</td>\n",
       "      <td>False</td>\n",
       "    </tr>\n",
       "    <tr>\n",
       "      <th>4</th>\n",
       "      <td>549481</td>\n",
       "      <td>AAAFBXICUBOO</td>\n",
       "      <td>2019-10-30 16:17:00</td>\n",
       "      <td>ИП</td>\n",
       "      <td>2019-10</td>\n",
       "      <td>1</td>\n",
       "      <td>2019-10-31</td>\n",
       "      <td>False</td>\n",
       "      <td>NaT</td>\n",
       "      <td>False</td>\n",
       "      <td>...</td>\n",
       "      <td>17</td>\n",
       "      <td>0</td>\n",
       "      <td>-9.006982e-01</td>\n",
       "      <td>-0.434445</td>\n",
       "      <td>False</td>\n",
       "      <td>True</td>\n",
       "      <td>False</td>\n",
       "      <td>False</td>\n",
       "      <td>False</td>\n",
       "      <td>False</td>\n",
       "    </tr>\n",
       "    <tr>\n",
       "      <th>...</th>\n",
       "      <td>...</td>\n",
       "      <td>...</td>\n",
       "      <td>...</td>\n",
       "      <td>...</td>\n",
       "      <td>...</td>\n",
       "      <td>...</td>\n",
       "      <td>...</td>\n",
       "      <td>...</td>\n",
       "      <td>...</td>\n",
       "      <td>...</td>\n",
       "      <td>...</td>\n",
       "      <td>...</td>\n",
       "      <td>...</td>\n",
       "      <td>...</td>\n",
       "      <td>...</td>\n",
       "      <td>...</td>\n",
       "      <td>...</td>\n",
       "      <td>...</td>\n",
       "      <td>...</td>\n",
       "      <td>...</td>\n",
       "      <td>...</td>\n",
       "    </tr>\n",
       "    <tr>\n",
       "      <th>453779</th>\n",
       "      <td>232404</td>\n",
       "      <td>ZZZYJYKIWJUY</td>\n",
       "      <td>2018-12-28 10:47:00</td>\n",
       "      <td>ИП</td>\n",
       "      <td>2018-12</td>\n",
       "      <td>0</td>\n",
       "      <td>2019-01-28</td>\n",
       "      <td>False</td>\n",
       "      <td>2019-04-24</td>\n",
       "      <td>False</td>\n",
       "      <td>...</td>\n",
       "      <td>47</td>\n",
       "      <td>0</td>\n",
       "      <td>3.131638e-01</td>\n",
       "      <td>-0.949699</td>\n",
       "      <td>False</td>\n",
       "      <td>False</td>\n",
       "      <td>False</td>\n",
       "      <td>True</td>\n",
       "      <td>False</td>\n",
       "      <td>False</td>\n",
       "    </tr>\n",
       "    <tr>\n",
       "      <th>453780</th>\n",
       "      <td>521067</td>\n",
       "      <td>ZZZZIBDUCCMF</td>\n",
       "      <td>2019-10-14 12:00:00</td>\n",
       "      <td>ИП</td>\n",
       "      <td>2019-10</td>\n",
       "      <td>0</td>\n",
       "      <td>2019-10-15</td>\n",
       "      <td>False</td>\n",
       "      <td>NaT</td>\n",
       "      <td>False</td>\n",
       "      <td>...</td>\n",
       "      <td>0</td>\n",
       "      <td>0</td>\n",
       "      <td>-3.216245e-16</td>\n",
       "      <td>-1.000000</td>\n",
       "      <td>False</td>\n",
       "      <td>False</td>\n",
       "      <td>False</td>\n",
       "      <td>False</td>\n",
       "      <td>False</td>\n",
       "      <td>False</td>\n",
       "    </tr>\n",
       "    <tr>\n",
       "      <th>453781</th>\n",
       "      <td>521485</td>\n",
       "      <td>ZZZZIBDUCCMF</td>\n",
       "      <td>2019-10-14 13:52:00</td>\n",
       "      <td>ИП</td>\n",
       "      <td>2019-10</td>\n",
       "      <td>1</td>\n",
       "      <td>2019-10-15</td>\n",
       "      <td>False</td>\n",
       "      <td>NaT</td>\n",
       "      <td>False</td>\n",
       "      <td>...</td>\n",
       "      <td>52</td>\n",
       "      <td>0</td>\n",
       "      <td>-4.694716e-01</td>\n",
       "      <td>-0.882948</td>\n",
       "      <td>False</td>\n",
       "      <td>False</td>\n",
       "      <td>False</td>\n",
       "      <td>False</td>\n",
       "      <td>False</td>\n",
       "      <td>False</td>\n",
       "    </tr>\n",
       "    <tr>\n",
       "      <th>453782</th>\n",
       "      <td>549591</td>\n",
       "      <td>ZZZZNXTPDFAG</td>\n",
       "      <td>2019-10-30 16:46:00</td>\n",
       "      <td>ИП</td>\n",
       "      <td>2019-10</td>\n",
       "      <td>0</td>\n",
       "      <td>2019-10-31</td>\n",
       "      <td>False</td>\n",
       "      <td>NaT</td>\n",
       "      <td>False</td>\n",
       "      <td>...</td>\n",
       "      <td>46</td>\n",
       "      <td>0</td>\n",
       "      <td>-9.483237e-01</td>\n",
       "      <td>-0.317305</td>\n",
       "      <td>False</td>\n",
       "      <td>True</td>\n",
       "      <td>False</td>\n",
       "      <td>False</td>\n",
       "      <td>False</td>\n",
       "      <td>False</td>\n",
       "    </tr>\n",
       "    <tr>\n",
       "      <th>453783</th>\n",
       "      <td>551924</td>\n",
       "      <td>ZZZZNXTPDFAG</td>\n",
       "      <td>2019-10-31 16:39:00</td>\n",
       "      <td>ИП</td>\n",
       "      <td>2019-10</td>\n",
       "      <td>1</td>\n",
       "      <td>2019-10-31</td>\n",
       "      <td>True</td>\n",
       "      <td>NaT</td>\n",
       "      <td>False</td>\n",
       "      <td>...</td>\n",
       "      <td>39</td>\n",
       "      <td>0</td>\n",
       "      <td>-9.381913e-01</td>\n",
       "      <td>-0.346117</td>\n",
       "      <td>False</td>\n",
       "      <td>False</td>\n",
       "      <td>True</td>\n",
       "      <td>False</td>\n",
       "      <td>False</td>\n",
       "      <td>False</td>\n",
       "    </tr>\n",
       "  </tbody>\n",
       "</table>\n",
       "<p>453784 rows × 30 columns</p>\n",
       "</div>"
      ],
      "text/plain": [
       "        IdInquiry           ИНН         Дата заявки Тип организации    Month  \\\n",
       "0          441465    AAAAIRYZRC 2019-08-22 15:06:00              ЮЛ  2019-08   \n",
       "1          441672    AAAAIRYZRC 2019-08-22 16:03:00              ЮЛ  2019-08   \n",
       "2          587893    AAADCVZNUR 2019-11-26 09:20:00              ЮЛ  2019-11   \n",
       "3          549280  AAAFBXICUBOO 2019-10-30 15:35:00              ИП  2019-10   \n",
       "4          549481  AAAFBXICUBOO 2019-10-30 16:17:00              ИП  2019-10   \n",
       "...           ...           ...                 ...             ...      ...   \n",
       "453779     232404  ZZZYJYKIWJUY 2018-12-28 10:47:00              ИП  2018-12   \n",
       "453780     521067  ZZZZIBDUCCMF 2019-10-14 12:00:00              ИП  2019-10   \n",
       "453781     521485  ZZZZIBDUCCMF 2019-10-14 13:52:00              ИП  2019-10   \n",
       "453782     549591  ZZZZNXTPDFAG 2019-10-30 16:46:00              ИП  2019-10   \n",
       "453783     551924  ZZZZNXTPDFAG 2019-10-31 16:39:00              ИП  2019-10   \n",
       "\n",
       "        Заявки до даты Дата открытия  Продукт открыт ранее Дата закрытия  \\\n",
       "0                    0    2019-08-27                 False           NaT   \n",
       "1                    1    2019-08-27                 False           NaT   \n",
       "2                    0    2019-11-28                 False           NaT   \n",
       "3                    0    2019-10-31                 False           NaT   \n",
       "4                    1    2019-10-31                 False           NaT   \n",
       "...                ...           ...                   ...           ...   \n",
       "453779               0    2019-01-28                 False    2019-04-24   \n",
       "453780               0    2019-10-15                 False           NaT   \n",
       "453781               1    2019-10-15                 False           NaT   \n",
       "453782               0    2019-10-31                 False           NaT   \n",
       "453783               1    2019-10-31                  True           NaT   \n",
       "\n",
       "        Продукт ранее закрыт  ...  Minute Second       TimeSin   TimeCos  \\\n",
       "0                      False  ...       6      0 -7.253744e-01 -0.688355   \n",
       "1                      False  ...       3      0 -8.724960e-01 -0.488621   \n",
       "2                      False  ...      20      0  6.427876e-01 -0.766044   \n",
       "3                      False  ...      35      0 -8.064446e-01 -0.591310   \n",
       "4                      False  ...      17      0 -9.006982e-01 -0.434445   \n",
       "...                      ...  ...     ...    ...           ...       ...   \n",
       "453779                 False  ...      47      0  3.131638e-01 -0.949699   \n",
       "453780                 False  ...       0      0 -3.216245e-16 -1.000000   \n",
       "453781                 False  ...      52      0 -4.694716e-01 -0.882948   \n",
       "453782                 False  ...      46      0 -9.483237e-01 -0.317305   \n",
       "453783                 False  ...      39      0 -9.381913e-01 -0.346117   \n",
       "\n",
       "        Weekday_1  Weekday_2  Weekday_3  Weekday_4  Weekday_5  Weekday_6  \n",
       "0           False      False       True      False      False      False  \n",
       "1           False      False       True      False      False      False  \n",
       "2            True      False      False      False      False      False  \n",
       "3           False       True      False      False      False      False  \n",
       "4           False       True      False      False      False      False  \n",
       "...           ...        ...        ...        ...        ...        ...  \n",
       "453779      False      False      False       True      False      False  \n",
       "453780      False      False      False      False      False      False  \n",
       "453781      False      False      False      False      False      False  \n",
       "453782      False       True      False      False      False      False  \n",
       "453783      False      False       True      False      False      False  \n",
       "\n",
       "[453784 rows x 30 columns]"
      ]
     },
     "execution_count": 37,
     "metadata": {},
     "output_type": "execute_result"
    }
   ],
   "source": [
    "applications"
   ]
  },
  {
   "cell_type": "code",
   "execution_count": 38,
   "id": "16922f51",
   "metadata": {},
   "outputs": [
    {
     "name": "stdout",
     "output_type": "stream",
     "text": [
      "Optimization terminated successfully.\n",
      "         Current function value: 0.347778\n",
      "         Iterations 10\n",
      "                           Logit Regression Results                           \n",
      "==============================================================================\n",
      "Dep. Variable:                 target   No. Observations:               317648\n",
      "Model:                          Logit   Df Residuals:                   317642\n",
      "Method:                           MLE   Df Model:                            5\n",
      "Date:                Fri, 23 May 2025   Pseudo R-squ.:                 0.03160\n",
      "Time:                        23:00:14   Log-Likelihood:            -1.1047e+05\n",
      "converged:                       True   LL-Null:                   -1.1408e+05\n",
      "Covariance Type:            nonrobust   LLR p-value:                     0.000\n",
      "========================================================================================\n",
      "                           coef    std err          z      P>|z|      [0.025      0.975]\n",
      "----------------------------------------------------------------------------------------\n",
      "const                   -2.4905      0.010   -240.073      0.000      -2.511      -2.470\n",
      "has_products            -4.0709      0.183    -22.251      0.000      -4.430      -3.712\n",
      "Продукт открыт ранее     0.2553      0.013     19.614      0.000       0.230       0.281\n",
      "Продукт ранее закрыт    -1.5008      0.096    -15.579      0.000      -1.690      -1.312\n",
      "Заявки до даты           0.1146      0.005     21.209      0.000       0.104       0.125\n",
      "Тип организации_ЮЛ       0.6768      0.012     57.935      0.000       0.654       0.700\n",
      "========================================================================================\n",
      "                           Logit Regression Results                           \n",
      "==============================================================================\n",
      "Dep. Variable:                 target   No. Observations:               317648\n",
      "Model:                          Logit   Df Residuals:                   317642\n",
      "Method:                           MLE   Df Model:                            5\n",
      "Date:                Fri, 23 May 2025   Pseudo R-squ.:                 0.03160\n",
      "Time:                        23:00:14   Log-Likelihood:            -1.1047e+05\n",
      "converged:                       True   LL-Null:                   -1.1408e+05\n",
      "Covariance Type:            nonrobust   LLR p-value:                     0.000\n",
      "========================================================================================\n",
      "                           coef    std err          z      P>|z|      [0.025      0.975]\n",
      "----------------------------------------------------------------------------------------\n",
      "const                   -2.4905      0.010   -240.073      0.000      -2.511      -2.470\n",
      "has_products            -4.0709      0.183    -22.251      0.000      -4.430      -3.712\n",
      "Продукт открыт ранее     0.2553      0.013     19.614      0.000       0.230       0.281\n",
      "Продукт ранее закрыт    -1.5008      0.096    -15.579      0.000      -1.690      -1.312\n",
      "Заявки до даты           0.1146      0.005     21.209      0.000       0.104       0.125\n",
      "Тип организации_ЮЛ       0.6768      0.012     57.935      0.000       0.654       0.700\n",
      "========================================================================================\n"
     ]
    },
    {
     "data": {
      "image/png": "[encoded data removed]",
      "text/plain": [
       "<Figure size 800x600 with 1 Axes>"
      ]
     },
     "metadata": {},
     "output_type": "display_data"
    },
    {
     "name": "stdout",
     "output_type": "stream",
     "text": [
      "ROC AUC: 0.62\n",
      "Gini Coefficient: 0.24\n"
     ]
    }
   ],
   "source": [
    "\n",
    "# Train-test split\n",
    "X_train, X_test, y_train, y_test = train_test_split(features, target, test_size=0.3, random_state=42)\n",
    "\n",
    "# Fit logistic regression model\n",
    "log_reg = LogisticRegression(max_iter=1000, random_state=42)\n",
    "log_reg.fit(X_train, y_train)\n",
    "\n",
    "# Evaluate variable significance using statsmodels\n",
    "X_train_sm = sm.add_constant(X_train)  # Add constant for intercept\n",
    "logit_model = sm.Logit(y_train, X_train_sm)\n",
    "result = logit_model.fit()\n",
    "print(result.summary())\n",
    "\n",
    "# Predict probabilities and calculate ROC AUC\n",
    "y_pred_proba = log_reg.predict_proba(X_test)[:, 1]\n",
    "roc_auc = roc_auc_score(y_test, y_pred_proba)\n",
    "\n",
    "# Calculate Gini coefficient\n",
    "gini = 2 * roc_auc - 1\n",
    "\n",
    "# Plot ROC curve\n",
    "fpr, tpr, _ = roc_curve(y_test, y_pred_proba)\n",
    "plt.figure(figsize=(8, 6))\n",
    "plt.plot(fpr, tpr, label=f'ROC curve (AUC = {roc_auc:.2f})')\n",
    "plt.plot([0, 1], [0, 1], 'k--', label='Random guess')\n",
    "plt.xlabel('False Positive Rate')\n",
    "plt.ylabel('True Positive Rate')\n",
    "plt.title('ROC Curve')\n",
    "plt.legend(loc='lower right')\n",
    "plt.grid()\n",
    "plt.show()\n",
    "\n",
    "print(f\"ROC AUC: {roc_auc:.2f}\")\n",
    "print(f\"Gini Coefficient: {gini:.2f}\")"
   ]
  },
  {
   "cell_type": "markdown",
   "id": "425e13f3",
   "metadata": {},
   "source": [
    "ROC AUC: 0.62\n",
    "Gini Coefficient: 0.24"
   ]
  },
  {
   "cell_type": "code",
   "execution_count": null,
   "id": "24e9c97b",
   "metadata": {},
   "outputs": [],
   "source": []
  }
 ],
 "metadata": {
  "kernelspec": {
   "display_name": "venv",
   "language": "python",
   "name": "python3"
  },
  "language_info": {
   "codemirror_mode": {
    "name": "ipython",
    "version": 3
   },
   "file_extension": ".py",
   "mimetype": "text/x-python",
   "name": "python",
   "nbconvert_exporter": "python",
   "pygments_lexer": "ipython3",
   "version": "3.9.6"
  }
 },
 "nbformat": 4,
 "nbformat_minor": 5
}
